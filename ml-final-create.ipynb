{
 "cells": [
  {
   "cell_type": "code",
   "execution_count": 1,
   "id": "editorial-savage",
   "metadata": {
    "execution": {
     "iopub.execute_input": "2021-05-22T10:42:22.947748Z",
     "iopub.status.busy": "2021-05-22T10:42:22.946540Z",
     "iopub.status.idle": "2021-05-22T10:42:23.784715Z",
     "shell.execute_reply": "2021-05-22T10:42:23.783966Z",
     "shell.execute_reply.started": "2021-05-22T08:12:16.683137Z"
    },
    "papermill": {
     "duration": 0.920108,
     "end_time": "2021-05-22T10:42:23.784891",
     "exception": false,
     "start_time": "2021-05-22T10:42:22.864783",
     "status": "completed"
    },
    "tags": []
   },
   "outputs": [],
   "source": [
    "import pandas as pd\n",
    "import numpy as np\n",
    "import matplotlib.pyplot as plt\n",
    "import seaborn as sns\n",
    "import gc"
   ]
  },
  {
   "cell_type": "code",
   "execution_count": 2,
   "id": "decimal-reminder",
   "metadata": {
    "_cell_guid": "b1076dfc-b9ad-4769-8c92-a6c4dae69d19",
    "_uuid": "8f2839f25d086af736a60e9eeb907d3b93b6e0e5",
    "execution": {
     "iopub.execute_input": "2021-05-22T10:42:23.945924Z",
     "iopub.status.busy": "2021-05-22T10:42:23.944889Z",
     "iopub.status.idle": "2021-05-22T10:42:23.947603Z",
     "shell.execute_reply": "2021-05-22T10:42:23.946998Z",
     "shell.execute_reply.started": "2021-05-22T08:12:17.391623Z"
    },
    "papermill": {
     "duration": 0.08346,
     "end_time": "2021-05-22T10:42:23.947738",
     "exception": false,
     "start_time": "2021-05-22T10:42:23.864278",
     "status": "completed"
    },
    "tags": []
   },
   "outputs": [],
   "source": [
    "import os\n",
    "# You can write up to 20GB to the current directory (/kaggle/working/) that gets preserved as output when you create a version using \"Save & Run All\" \n",
    "# You can also write temporary files to /kaggle/temp/, but they won't be saved outside of the current session"
   ]
  },
  {
   "cell_type": "code",
   "execution_count": 3,
   "id": "biblical-hazard",
   "metadata": {
    "execution": {
     "iopub.execute_input": "2021-05-22T10:42:24.104500Z",
     "iopub.status.busy": "2021-05-22T10:42:24.103477Z",
     "iopub.status.idle": "2021-05-22T10:42:24.106396Z",
     "shell.execute_reply": "2021-05-22T10:42:24.105855Z",
     "shell.execute_reply.started": "2021-05-22T08:12:17.398941Z"
    },
    "papermill": {
     "duration": 0.083765,
     "end_time": "2021-05-22T10:42:24.106545",
     "exception": false,
     "start_time": "2021-05-22T10:42:24.022780",
     "status": "completed"
    },
    "tags": []
   },
   "outputs": [],
   "source": [
    "# vstack - adds rows, hstack - adds columns\n",
    "# csr_matrix - used to handle sparse matrix\n",
    "from scipy.sparse import vstack, hstack, csr_matrix"
   ]
  },
  {
   "cell_type": "code",
   "execution_count": 4,
   "id": "assisted-smile",
   "metadata": {
    "execution": {
     "iopub.execute_input": "2021-05-22T10:42:24.264662Z",
     "iopub.status.busy": "2021-05-22T10:42:24.264003Z",
     "iopub.status.idle": "2021-05-22T10:42:24.414853Z",
     "shell.execute_reply": "2021-05-22T10:42:24.414182Z",
     "shell.execute_reply.started": "2021-05-22T08:12:17.40946Z"
    },
    "papermill": {
     "duration": 0.23103,
     "end_time": "2021-05-22T10:42:24.415018",
     "exception": false,
     "start_time": "2021-05-22T10:42:24.183988",
     "status": "completed"
    },
    "tags": []
   },
   "outputs": [],
   "source": [
    "# CountVectorizer - Simply, counts word frequencies \n",
    "# TFIDF - More importance/weights on \"rare\" words. Less importance/weights on \"frequent\" words\n",
    "from sklearn.feature_extraction.text import CountVectorizer, TfidfVectorizer"
   ]
  },
  {
   "cell_type": "code",
   "execution_count": 5,
   "id": "stretch-representative",
   "metadata": {
    "execution": {
     "iopub.execute_input": "2021-05-22T10:42:24.577230Z",
     "iopub.status.busy": "2021-05-22T10:42:24.576406Z",
     "iopub.status.idle": "2021-05-22T10:42:24.579016Z",
     "shell.execute_reply": "2021-05-22T10:42:24.579516Z",
     "shell.execute_reply.started": "2021-05-22T08:12:17.567641Z"
    },
    "papermill": {
     "duration": 0.086299,
     "end_time": "2021-05-22T10:42:24.579727",
     "exception": false,
     "start_time": "2021-05-22T10:42:24.493428",
     "status": "completed"
    },
    "tags": []
   },
   "outputs": [],
   "source": [
    "# LabelBinarizer - Converts labels into numerical representation \"G,B,R\" -> [1,2,3]\n",
    "from sklearn.preprocessing import LabelBinarizer"
   ]
  },
  {
   "cell_type": "code",
   "execution_count": 6,
   "id": "special-athens",
   "metadata": {
    "execution": {
     "iopub.execute_input": "2021-05-22T10:42:24.737976Z",
     "iopub.status.busy": "2021-05-22T10:42:24.737290Z",
     "iopub.status.idle": "2021-05-22T10:42:24.918575Z",
     "shell.execute_reply": "2021-05-22T10:42:24.917366Z",
     "shell.execute_reply.started": "2021-05-22T08:12:17.57846Z"
    },
    "papermill": {
     "duration": 0.262521,
     "end_time": "2021-05-22T10:42:24.918727",
     "exception": false,
     "start_time": "2021-05-22T10:42:24.656206",
     "status": "completed"
    },
    "tags": []
   },
   "outputs": [],
   "source": [
    "# Ridge - Reduces multicollinearity in regression. Applies L2 Regularization\n",
    "from sklearn.linear_model import Ridge"
   ]
  },
  {
   "cell_type": "code",
   "execution_count": 7,
   "id": "patent-allah",
   "metadata": {
    "execution": {
     "iopub.execute_input": "2021-05-22T10:42:25.076181Z",
     "iopub.status.busy": "2021-05-22T10:42:25.075486Z",
     "iopub.status.idle": "2021-05-22T10:42:25.078652Z",
     "shell.execute_reply": "2021-05-22T10:42:25.078037Z",
     "shell.execute_reply.started": "2021-05-22T08:12:17.727273Z"
    },
    "papermill": {
     "duration": 0.083636,
     "end_time": "2021-05-22T10:42:25.078819",
     "exception": false,
     "start_time": "2021-05-22T10:42:24.995183",
     "status": "completed"
    },
    "tags": []
   },
   "outputs": [],
   "source": [
    "from sklearn.linear_model import LogisticRegression\n",
    "from sklearn.model_selection import train_test_split, cross_val_score"
   ]
  },
  {
   "cell_type": "code",
   "execution_count": 8,
   "id": "preliminary-secretary",
   "metadata": {
    "execution": {
     "iopub.execute_input": "2021-05-22T10:42:25.242627Z",
     "iopub.status.busy": "2021-05-22T10:42:25.241902Z",
     "iopub.status.idle": "2021-05-22T10:42:25.243734Z",
     "shell.execute_reply": "2021-05-22T10:42:25.244166Z",
     "shell.execute_reply.started": "2021-05-22T08:12:17.733759Z"
    },
    "papermill": {
     "duration": 0.087295,
     "end_time": "2021-05-22T10:42:25.244348",
     "exception": false,
     "start_time": "2021-05-22T10:42:25.157053",
     "status": "completed"
    },
    "tags": []
   },
   "outputs": [],
   "source": [
    "%matplotlib inline\n",
    "import matplotlib.pyplot as plt\n",
    "plt.style.use(style='ggplot')\n",
    "plt.rcParams['figure.figsize'] = (10, 6)"
   ]
  },
  {
   "cell_type": "code",
   "execution_count": 9,
   "id": "voluntary-tribune",
   "metadata": {
    "execution": {
     "iopub.execute_input": "2021-05-22T10:42:25.403435Z",
     "iopub.status.busy": "2021-05-22T10:42:25.402675Z",
     "iopub.status.idle": "2021-05-22T10:42:25.409307Z",
     "shell.execute_reply": "2021-05-22T10:42:25.408794Z",
     "shell.execute_reply.started": "2021-05-22T08:12:17.747116Z"
    },
    "papermill": {
     "duration": 0.086834,
     "end_time": "2021-05-22T10:42:25.409464",
     "exception": false,
     "start_time": "2021-05-22T10:42:25.322630",
     "status": "completed"
    },
    "tags": []
   },
   "outputs": [
    {
     "name": "stdout",
     "output_type": "stream",
     "text": [
      "/kaggle/input/mercari-price-suggestion-challenge/train.tsv.7z\n",
      "/kaggle/input/mercari-price-suggestion-challenge/test.tsv.7z\n",
      "/kaggle/input/mercari-price-suggestion-challenge/sample_submission_stg2.csv.zip\n",
      "/kaggle/input/mercari-price-suggestion-challenge/test_stg2.tsv.zip\n",
      "/kaggle/input/mercari-price-suggestion-challenge/sample_submission.csv.7z\n"
     ]
    }
   ],
   "source": [
    "for dirname, _, filenames in os.walk('/kaggle/input'):\n",
    "    for filename in filenames:\n",
    "        print(os.path.join(dirname, filename))"
   ]
  },
  {
   "cell_type": "code",
   "execution_count": 10,
   "id": "aware-reporter",
   "metadata": {
    "execution": {
     "iopub.execute_input": "2021-05-22T10:42:25.573296Z",
     "iopub.status.busy": "2021-05-22T10:42:25.571702Z",
     "iopub.status.idle": "2021-05-22T10:42:44.202773Z",
     "shell.execute_reply": "2021-05-22T10:42:44.202207Z",
     "shell.execute_reply.started": "2021-05-22T08:12:17.760887Z"
    },
    "papermill": {
     "duration": 18.716638,
     "end_time": "2021-05-22T10:42:44.202918",
     "exception": false,
     "start_time": "2021-05-22T10:42:25.486280",
     "status": "completed"
    },
    "tags": []
   },
   "outputs": [
    {
     "name": "stdout",
     "output_type": "stream",
     "text": [
      "\r\n",
      "\r\n",
      "\r\n",
      "Suggested packages:\r\n",
      "  p7zip-full\r\n",
      "The following NEW packages will be installed:\r\n",
      "  p7zip\r\n",
      "0 upgraded, 1 newly installed, 0 to remove and 15 not upgraded.\r\n",
      "Need to get 358 kB of archives.\r\n",
      "After this operation, 996 kB of additional disk space will be used.\r\n",
      "Get:1 http://archive.ubuntu.com/ubuntu bionic/universe amd64 p7zip amd64 16.02+dfsg-6 [358 kB]\r\n",
      "Fetched 358 kB in 1s (322 kB/s)\r\n",
      "debconf: delaying package configuration, since apt-utils is not installed\r\n",
      "Selecting previously unselected package p7zip.\r\n",
      "(Reading database ... 95327 files and directories currently installed.)\r\n",
      "Preparing to unpack .../p7zip_16.02+dfsg-6_amd64.deb ...\r\n",
      "Unpacking p7zip (16.02+dfsg-6) ...\r\n",
      "Setting up p7zip (16.02+dfsg-6) ...\r\n",
      "\r\n",
      "7-Zip (a) [64] 16.02 : Copyright (c) 1999-2016 Igor Pavlov : 2016-05-21\r\n",
      "p7zip Version 16.02 (locale=C.UTF-8,Utf16=on,HugeFiles=on,64 bits,4 CPUs Intel(R) Xeon(R) CPU @ 2.20GHz (406F0),ASM,AES-NI)\r\n",
      "\r\n",
      "Scanning the drive for archives:\r\n",
      "  0M Scan /kaggle/input/mercari-price-suggestion-challenge/\b\b\b\b\b\b\b\b\b\b\b\b\b\b\b\b\b\b\b\b\b\b\b\b\b\b\b\b\b\b\b\b\b\b\b\b\b\b\b\b\b\b\b\b\b\b\b\b\b\b\b\b\b\b\b\b\b\b\b                                                           \b\b\b\b\b\b\b\b\b\b\b\b\b\b\b\b\b\b\b\b\b\b\b\b\b\b\b\b\b\b\b\b\b\b\b\b\b\b\b\b\b\b\b\b\b\b\b\b\b\b\b\b\b\b\b\b\b\b\b1 file, 77912192 bytes (75 MiB)\r\n",
      "\r\n",
      "Extracting archive: /kaggle/input/mercari-price-suggestion-challenge/train.tsv.7z\r\n",
      "--\r\n",
      "Path = /kaggle/input/mercari-price-suggestion-challenge/train.tsv.7z\r\n",
      "Type = 7z\r\n",
      "Physical Size = 77912192\r\n",
      "Headers Size = 122\r\n",
      "Method = LZMA2:24\r\n",
      "Solid = -\r\n",
      "Blocks = 1\r\n",
      "\r\n",
      "  0%\b\b\b\b    \b\b\b\b  2% - train.tsv\b\b\b\b\b\b\b\b\b\b\b\b\b\b\b\b                \b\b\b\b\b\b\b\b\b\b\b\b\b\b\b\b  4% - train.tsv\b\b\b\b\b\b\b\b\b\b\b\b\b\b\b\b                \b\b\b\b\b\b\b\b\b\b\b\b\b\b\b\b  7% - train.tsv\b\b\b\b\b\b\b\b\b\b\b\b\b\b\b\b                \b\b\b\b\b\b\b\b\b\b\b\b\b\b\b\b 10% - train.tsv\b\b\b\b\b\b\b\b\b\b\b\b\b\b\b\b                \b\b\b\b\b\b\b\b\b\b\b\b\b\b\b\b 13% - train.tsv\b\b\b\b\b\b\b\b\b\b\b\b\b\b\b\b                \b\b\b\b\b\b\b\b\b\b\b\b\b\b\b\b 16% - train.tsv\b\b\b\b\b\b\b\b\b\b\b\b\b\b\b\b                \b\b\b\b\b\b\b\b\b\b\b\b\b\b\b\b 18% - train.tsv\b\b\b\b\b\b\b\b\b\b\b\b\b\b\b\b                \b\b\b\b\b\b\b\b\b\b\b\b\b\b\b\b 21% - train.tsv\b\b\b\b\b\b\b\b\b\b\b\b\b\b\b\b                \b\b\b\b\b\b\b\b\b\b\b\b\b\b\b\b 24% - train.tsv\b\b\b\b\b\b\b\b\b\b\b\b\b\b\b\b                \b\b\b\b\b\b\b\b\b\b\b\b\b\b\b\b 28% - train.tsv\b\b\b\b\b\b\b\b\b\b\b\b\b\b\b\b                \b\b\b\b\b\b\b\b\b\b\b\b\b\b\b\b 30% - train.tsv\b\b\b\b\b\b\b\b\b\b\b\b\b\b\b\b                \b\b\b\b\b\b\b\b\b\b\b\b\b\b\b\b 33% - train.tsv\b\b\b\b\b\b\b\b\b\b\b\b\b\b\b\b                \b\b\b\b\b\b\b\b\b\b\b\b\b\b\b\b 36% - train.tsv\b\b\b\b\b\b\b\b\b\b\b\b\b\b\b\b                \b\b\b\b\b\b\b\b\b\b\b\b\b\b\b\b 39% - train.tsv\b\b\b\b\b\b\b\b\b\b\b\b\b\b\b\b                \b\b\b\b\b\b\b\b\b\b\b\b\b\b\b\b 42% - train.tsv\b\b\b\b\b\b\b\b\b\b\b\b\b\b\b\b                \b\b\b\b\b\b\b\b\b\b\b\b\b\b\b\b 44% - train.tsv\b\b\b\b\b\b\b\b\b\b\b\b\b\b\b\b                \b\b\b\b\b\b\b\b\b\b\b\b\b\b\b\b 47% - train.tsv\b\b\b\b\b\b\b\b\b\b\b\b\b\b\b\b                \b\b\b\b\b\b\b\b\b\b\b\b\b\b\b\b 49% - train.tsv\b\b\b\b\b\b\b\b\b\b\b\b\b\b\b\b                \b\b\b\b\b\b\b\b\b\b\b\b\b\b\b\b 53% - train.tsv\b\b\b\b\b\b\b\b\b\b\b\b\b\b\b\b                \b\b\b\b\b\b\b\b\b\b\b\b\b\b\b\b 55% - train.tsv\b\b\b\b\b\b\b\b\b\b\b\b\b\b\b\b                \b\b\b\b\b\b\b\b\b\b\b\b\b\b\b\b 58% - train.tsv\b\b\b\b\b\b\b\b\b\b\b\b\b\b\b\b                \b\b\b\b\b\b\b\b\b\b\b\b\b\b\b\b 60% - train.tsv\b\b\b\b\b\b\b\b\b\b\b\b\b\b\b\b                \b\b\b\b\b\b\b\b\b\b\b\b\b\b\b\b 64% - train.tsv\b\b\b\b\b\b\b\b\b\b\b\b\b\b\b\b                \b\b\b\b\b\b\b\b\b\b\b\b\b\b\b\b 67% - train.tsv\b\b\b\b\b\b\b\b\b\b\b\b\b\b\b\b                \b\b\b\b\b\b\b\b\b\b\b\b\b\b\b\b 70% - train.tsv\b\b\b\b\b\b\b\b\b\b\b\b\b\b\b\b                \b\b\b\b\b\b\b\b\b\b\b\b\b\b\b\b 73% - train.tsv\b\b\b\b\b\b\b\b\b\b\b\b\b\b\b\b                \b\b\b\b\b\b\b\b\b\b\b\b\b\b\b\b 76% - train.tsv\b\b\b\b\b\b\b\b\b\b\b\b\b\b\b\b                \b\b\b\b\b\b\b\b\b\b\b\b\b\b\b\b 80% - train.tsv\b\b\b\b\b\b\b\b\b\b\b\b\b\b\b\b                \b\b\b\b\b\b\b\b\b\b\b\b\b\b\b\b 83% - train.tsv\b\b\b\b\b\b\b\b\b\b\b\b\b\b\b\b                \b\b\b\b\b\b\b\b\b\b\b\b\b\b\b\b 86% - train.tsv\b\b\b\b\b\b\b\b\b\b\b\b\b\b\b\b                \b\b\b\b\b\b\b\b\b\b\b\b\b\b\b\b 90% - train.tsv\b\b\b\b\b\b\b\b\b\b\b\b\b\b\b\b                \b\b\b\b\b\b\b\b\b\b\b\b\b\b\b\b 92% - train.tsv\b\b\b\b\b\b\b\b\b\b\b\b\b\b\b\b                \b\b\b\b\b\b\b\b\b\b\b\b\b\b\b\b 95% - train.tsv\b\b\b\b\b\b\b\b\b\b\b\b\b\b\b\b                \b\b\b\b\b\b\b\b\b\b\b\b\b\b\b\b 98% - train.tsv\b\b\b\b\b\b\b\b\b\b\b\b\b\b\b\b                \b\b\b\b\b\b\b\b\b\b\b\b\b\b\b\bEverything is Ok\r\n",
      "\r\n",
      "Size:       337809843\r\n",
      "Compressed: 77912192\r\n",
      "\r\n",
      "7-Zip (a) [64] 16.02 : Copyright (c) 1999-2016 Igor Pavlov : 2016-05-21\r\n",
      "p7zip Version 16.02 (locale=C.UTF-8,Utf16=on,HugeFiles=on,64 bits,4 CPUs Intel(R) Xeon(R) CPU @ 2.20GHz (406F0),ASM,AES-NI)\r\n",
      "\r\n",
      "Scanning the drive for archives:\r\n",
      "  0M Scan /kaggle/input/mercari-price-suggestion-challenge/\b\b\b\b\b\b\b\b\b\b\b\b\b\b\b\b\b\b\b\b\b\b\b\b\b\b\b\b\b\b\b\b\b\b\b\b\b\b\b\b\b\b\b\b\b\b\b\b\b\b\b\b\b\b\b\b\b\b\b                                                           \b\b\b\b\b\b\b\b\b\b\b\b\b\b\b\b\b\b\b\b\b\b\b\b\b\b\b\b\b\b\b\b\b\b\b\b\b\b\b\b\b\b\b\b\b\b\b\b\b\b\b\b\b\b\b\b\b\b\b1 file, 35617013 bytes (34 MiB)\r\n",
      "\r\n",
      "Extracting archive: /kaggle/input/mercari-price-suggestion-challenge/test.tsv.7z\r\n",
      "--\r\n",
      "Path = /kaggle/input/mercari-price-suggestion-challenge/test.tsv.7z\r\n",
      "Type = 7z\r\n",
      "Physical Size = 35617013\r\n",
      "Headers Size = 122\r\n",
      "Method = LZMA2:24\r\n",
      "Solid = -\r\n",
      "Blocks = 1\r\n",
      "\r\n",
      "  0%\b\b\b\b    \b\b\b\b  5% - test.tsv\b\b\b\b\b\b\b\b\b\b\b\b\b\b\b               \b\b\b\b\b\b\b\b\b\b\b\b\b\b\b 10% - test.tsv\b\b\b\b\b\b\b\b\b\b\b\b\b\b\b               \b\b\b\b\b\b\b\b\b\b\b\b\b\b\b 16% - test.tsv\b\b\b\b\b\b\b\b\b\b\b\b\b\b\b               \b\b\b\b\b\b\b\b\b\b\b\b\b\b\b 23% - test.tsv\b\b\b\b\b\b\b\b\b\b\b\b\b\b\b               \b\b\b\b\b\b\b\b\b\b\b\b\b\b\b 29% - test.tsv\b\b\b\b\b\b\b\b\b\b\b\b\b\b\b               \b\b\b\b\b\b\b\b\b\b\b\b\b\b\b 35% - test.tsv\b\b\b\b\b\b\b\b\b\b\b\b\b\b\b               \b\b\b\b\b\b\b\b\b\b\b\b\b\b\b 43% - test.tsv\b\b\b\b\b\b\b\b\b\b\b\b\b\b\b               \b\b\b\b\b\b\b\b\b\b\b\b\b\b\b 48% - test.tsv\b\b\b\b\b\b\b\b\b\b\b\b\b\b\b               \b\b\b\b\b\b\b\b\b\b\b\b\b\b\b 55% - test.tsv\b\b\b\b\b\b\b\b\b\b\b\b\b\b\b               \b\b\b\b\b\b\b\b\b\b\b\b\b\b\b 61% - test.tsv\b\b\b\b\b\b\b\b\b\b\b\b\b\b\b               \b\b\b\b\b\b\b\b\b\b\b\b\b\b\b 67% - test.tsv\b\b\b\b\b\b\b\b\b\b\b\b\b\b\b               \b\b\b\b\b\b\b\b\b\b\b\b\b\b\b 76% - test.tsv\b\b\b\b\b\b\b\b\b\b\b\b\b\b\b               \b\b\b\b\b\b\b\b\b\b\b\b\b\b\b 82% - test.tsv\b\b\b\b\b\b\b\b\b\b\b\b\b\b\b               \b\b\b\b\b\b\b\b\b\b\b\b\b\b\b 89% - test.tsv\b\b\b\b\b\b\b\b\b\b\b\b\b\b\b               \b\b\b\b\b\b\b\b\b\b\b\b\b\b\b 97% - test.tsv\b\b\b\b\b\b\b\b\b\b\b\b\b\b\b               \b\b\b\b\b\b\b\b\b\b\b\b\b\b\bEverything is Ok\r\n",
      "\r\n",
      "Size:       154222160\r\n",
      "Compressed: 35617013\r\n",
      "\r\n",
      "7-Zip (a) [64] 16.02 : Copyright (c) 1999-2016 Igor Pavlov : 2016-05-21\r\n",
      "p7zip Version 16.02 (locale=C.UTF-8,Utf16=on,HugeFiles=on,64 bits,4 CPUs Intel(R) Xeon(R) CPU @ 2.20GHz (406F0),ASM,AES-NI)\r\n",
      "\r\n",
      "Scanning the drive for archives:\r\n",
      "  0M Scan /kaggle/input/mercari-price-suggestion-challenge/\b\b\b\b\b\b\b\b\b\b\b\b\b\b\b\b\b\b\b\b\b\b\b\b\b\b\b\b\b\b\b\b\b\b\b\b\b\b\b\b\b\b\b\b\b\b\b\b\b\b\b\b\b\b\b\b\b\b\b                                                           \b\b\b\b\b\b\b\b\b\b\b\b\b\b\b\b\b\b\b\b\b\b\b\b\b\b\b\b\b\b\b\b\b\b\b\b\b\b\b\b\b\b\b\b\b\b\b\b\b\b\b\b\b\b\b\b\b\b\b1 file, 174228 bytes (171 KiB)\r\n",
      "\r\n",
      "Extracting archive: /kaggle/input/mercari-price-suggestion-challenge/sample_submission.csv.7z\r\n",
      "--\r\n",
      "Path = /kaggle/input/mercari-price-suggestion-challenge/sample_submission.csv.7z\r\n",
      "Type = 7z\r\n",
      "Physical Size = 174228\r\n",
      "Headers Size = 143\r\n",
      "Method = LZMA:12m\r\n",
      "Solid = -\r\n",
      "Blocks = 1\r\n",
      "\r\n",
      "  0%\b\b\b\b    \b\b\b\bEverything is Ok\r\n",
      "\r\n",
      "Size:       9595930\r\n",
      "Compressed: 174228\r\n"
     ]
    }
   ],
   "source": [
    "!apt-get install p7zip\n",
    "!p7zip -d -f -k /kaggle/input/mercari-price-suggestion-challenge/train.tsv.7z\n",
    "!p7zip -d -f -k /kaggle/input/mercari-price-suggestion-challenge/test.tsv.7z\n",
    "!p7zip -d -f -k /kaggle/input/mercari-price-suggestion-challenge/sample_submission.csv.7z"
   ]
  },
  {
   "cell_type": "code",
   "execution_count": 11,
   "id": "occupational-typing",
   "metadata": {
    "execution": {
     "iopub.execute_input": "2021-05-22T10:42:44.416938Z",
     "iopub.status.busy": "2021-05-22T10:42:44.416132Z",
     "iopub.status.idle": "2021-05-22T10:42:55.293436Z",
     "shell.execute_reply": "2021-05-22T10:42:55.292488Z",
     "shell.execute_reply.started": "2021-05-22T08:12:34.216368Z"
    },
    "papermill": {
     "duration": 10.988623,
     "end_time": "2021-05-22T10:42:55.293587",
     "exception": false,
     "start_time": "2021-05-22T10:42:44.304964",
     "status": "completed"
    },
    "tags": []
   },
   "outputs": [
    {
     "name": "stdout",
     "output_type": "stream",
     "text": [
      "Archive:  /kaggle/input/mercari-price-suggestion-challenge/sample_submission_stg2.csv.zip\r\n",
      "  inflating: sample_submission_stg2.csv  \r\n",
      "Archive:  /kaggle/input/mercari-price-suggestion-challenge/test_stg2.tsv.zip\r\n",
      "  inflating: test_stg2.tsv           \r\n"
     ]
    }
   ],
   "source": [
    "!unzip /kaggle/input/mercari-price-suggestion-challenge/sample_submission_stg2.csv.zip\n",
    "!unzip /kaggle/input/mercari-price-suggestion-challenge/test_stg2.tsv.zip"
   ]
  },
  {
   "cell_type": "code",
   "execution_count": 12,
   "id": "romance-looking",
   "metadata": {
    "execution": {
     "iopub.execute_input": "2021-05-22T10:42:55.506007Z",
     "iopub.status.busy": "2021-05-22T10:42:55.505402Z",
     "iopub.status.idle": "2021-05-22T10:43:15.431300Z",
     "shell.execute_reply": "2021-05-22T10:43:15.430654Z",
     "shell.execute_reply.started": "2021-05-22T08:12:45.326779Z"
    },
    "papermill": {
     "duration": 20.034629,
     "end_time": "2021-05-22T10:43:15.431459",
     "exception": false,
     "start_time": "2021-05-22T10:42:55.396830",
     "status": "completed"
    },
    "tags": []
   },
   "outputs": [],
   "source": [
    "# Create training set\n",
    "train = pd.read_csv('train.tsv', sep = '\\t')\n",
    "# Create testing set\n",
    "test = pd.read_csv('test_stg2.tsv', sep='\\t')"
   ]
  },
  {
   "cell_type": "code",
   "execution_count": 13,
   "id": "electoral-elements",
   "metadata": {
    "execution": {
     "iopub.execute_input": "2021-05-22T10:43:15.640253Z",
     "iopub.status.busy": "2021-05-22T10:43:15.639633Z",
     "iopub.status.idle": "2021-05-22T10:43:15.643791Z",
     "shell.execute_reply": "2021-05-22T10:43:15.643194Z",
     "shell.execute_reply.started": "2021-05-22T08:13:04.589451Z"
    },
    "papermill": {
     "duration": 0.111001,
     "end_time": "2021-05-22T10:43:15.643924",
     "exception": false,
     "start_time": "2021-05-22T10:43:15.532923",
     "status": "completed"
    },
    "tags": []
   },
   "outputs": [
    {
     "name": "stdout",
     "output_type": "stream",
     "text": [
      "Train data shape: (1482535, 8)\n",
      "Test data shape: (3460725, 7)\n"
     ]
    }
   ],
   "source": [
    "print (\"Train data shape:\", train.shape)\n",
    "print (\"Test data shape:\", test.shape)"
   ]
  },
  {
   "cell_type": "code",
   "execution_count": 14,
   "id": "logical-presence",
   "metadata": {
    "execution": {
     "iopub.execute_input": "2021-05-22T10:43:15.863653Z",
     "iopub.status.busy": "2021-05-22T10:43:15.863041Z",
     "iopub.status.idle": "2021-05-22T10:43:15.889145Z",
     "shell.execute_reply": "2021-05-22T10:43:15.889636Z",
     "shell.execute_reply.started": "2021-05-22T08:13:04.596351Z"
    },
    "papermill": {
     "duration": 0.142608,
     "end_time": "2021-05-22T10:43:15.889801",
     "exception": false,
     "start_time": "2021-05-22T10:43:15.747193",
     "status": "completed"
    },
    "tags": []
   },
   "outputs": [
    {
     "data": {
      "text/html": [
       "<div>\n",
       "<style scoped>\n",
       "    .dataframe tbody tr th:only-of-type {\n",
       "        vertical-align: middle;\n",
       "    }\n",
       "\n",
       "    .dataframe tbody tr th {\n",
       "        vertical-align: top;\n",
       "    }\n",
       "\n",
       "    .dataframe thead th {\n",
       "        text-align: right;\n",
       "    }\n",
       "</style>\n",
       "<table border=\"1\" class=\"dataframe\">\n",
       "  <thead>\n",
       "    <tr style=\"text-align: right;\">\n",
       "      <th></th>\n",
       "      <th>train_id</th>\n",
       "      <th>name</th>\n",
       "      <th>item_condition_id</th>\n",
       "      <th>category_name</th>\n",
       "      <th>brand_name</th>\n",
       "      <th>price</th>\n",
       "      <th>shipping</th>\n",
       "      <th>item_description</th>\n",
       "    </tr>\n",
       "  </thead>\n",
       "  <tbody>\n",
       "    <tr>\n",
       "      <th>0</th>\n",
       "      <td>0</td>\n",
       "      <td>MLB Cincinnati Reds T Shirt Size XL</td>\n",
       "      <td>3</td>\n",
       "      <td>Men/Tops/T-shirts</td>\n",
       "      <td>NaN</td>\n",
       "      <td>10.0</td>\n",
       "      <td>1</td>\n",
       "      <td>No description yet</td>\n",
       "    </tr>\n",
       "    <tr>\n",
       "      <th>1</th>\n",
       "      <td>1</td>\n",
       "      <td>Razer BlackWidow Chroma Keyboard</td>\n",
       "      <td>3</td>\n",
       "      <td>Electronics/Computers &amp; Tablets/Components &amp; P...</td>\n",
       "      <td>Razer</td>\n",
       "      <td>52.0</td>\n",
       "      <td>0</td>\n",
       "      <td>This keyboard is in great condition and works ...</td>\n",
       "    </tr>\n",
       "    <tr>\n",
       "      <th>2</th>\n",
       "      <td>2</td>\n",
       "      <td>AVA-VIV Blouse</td>\n",
       "      <td>1</td>\n",
       "      <td>Women/Tops &amp; Blouses/Blouse</td>\n",
       "      <td>Target</td>\n",
       "      <td>10.0</td>\n",
       "      <td>1</td>\n",
       "      <td>Adorable top with a hint of lace and a key hol...</td>\n",
       "    </tr>\n",
       "    <tr>\n",
       "      <th>3</th>\n",
       "      <td>3</td>\n",
       "      <td>Leather Horse Statues</td>\n",
       "      <td>1</td>\n",
       "      <td>Home/Home Décor/Home Décor Accents</td>\n",
       "      <td>NaN</td>\n",
       "      <td>35.0</td>\n",
       "      <td>1</td>\n",
       "      <td>New with tags. Leather horses. Retail for [rm]...</td>\n",
       "    </tr>\n",
       "    <tr>\n",
       "      <th>4</th>\n",
       "      <td>4</td>\n",
       "      <td>24K GOLD plated rose</td>\n",
       "      <td>1</td>\n",
       "      <td>Women/Jewelry/Necklaces</td>\n",
       "      <td>NaN</td>\n",
       "      <td>44.0</td>\n",
       "      <td>0</td>\n",
       "      <td>Complete with certificate of authenticity</td>\n",
       "    </tr>\n",
       "    <tr>\n",
       "      <th>5</th>\n",
       "      <td>5</td>\n",
       "      <td>Bundled items requested for Ruie</td>\n",
       "      <td>3</td>\n",
       "      <td>Women/Other/Other</td>\n",
       "      <td>NaN</td>\n",
       "      <td>59.0</td>\n",
       "      <td>0</td>\n",
       "      <td>Banana republic bottoms, Candies skirt with ma...</td>\n",
       "    </tr>\n",
       "    <tr>\n",
       "      <th>6</th>\n",
       "      <td>6</td>\n",
       "      <td>Acacia pacific tides santorini top</td>\n",
       "      <td>3</td>\n",
       "      <td>Women/Swimwear/Two-Piece</td>\n",
       "      <td>Acacia Swimwear</td>\n",
       "      <td>64.0</td>\n",
       "      <td>0</td>\n",
       "      <td>Size small but straps slightly shortened to fi...</td>\n",
       "    </tr>\n",
       "    <tr>\n",
       "      <th>7</th>\n",
       "      <td>7</td>\n",
       "      <td>Girls cheer and tumbling bundle of 7</td>\n",
       "      <td>3</td>\n",
       "      <td>Sports &amp; Outdoors/Apparel/Girls</td>\n",
       "      <td>Soffe</td>\n",
       "      <td>6.0</td>\n",
       "      <td>1</td>\n",
       "      <td>You get three pairs of Sophie cheer shorts siz...</td>\n",
       "    </tr>\n",
       "    <tr>\n",
       "      <th>8</th>\n",
       "      <td>8</td>\n",
       "      <td>Girls Nike Pro shorts</td>\n",
       "      <td>3</td>\n",
       "      <td>Sports &amp; Outdoors/Apparel/Girls</td>\n",
       "      <td>Nike</td>\n",
       "      <td>19.0</td>\n",
       "      <td>0</td>\n",
       "      <td>Girls Size small Plus green. Three shorts total.</td>\n",
       "    </tr>\n",
       "    <tr>\n",
       "      <th>9</th>\n",
       "      <td>9</td>\n",
       "      <td>Porcelain clown doll checker pants VTG</td>\n",
       "      <td>3</td>\n",
       "      <td>Vintage &amp; Collectibles/Collectibles/Doll</td>\n",
       "      <td>NaN</td>\n",
       "      <td>8.0</td>\n",
       "      <td>0</td>\n",
       "      <td>I realized his pants are on backwards after th...</td>\n",
       "    </tr>\n",
       "  </tbody>\n",
       "</table>\n",
       "</div>"
      ],
      "text/plain": [
       "   train_id                                    name  item_condition_id  \\\n",
       "0         0     MLB Cincinnati Reds T Shirt Size XL                  3   \n",
       "1         1        Razer BlackWidow Chroma Keyboard                  3   \n",
       "2         2                          AVA-VIV Blouse                  1   \n",
       "3         3                   Leather Horse Statues                  1   \n",
       "4         4                    24K GOLD plated rose                  1   \n",
       "5         5        Bundled items requested for Ruie                  3   \n",
       "6         6      Acacia pacific tides santorini top                  3   \n",
       "7         7    Girls cheer and tumbling bundle of 7                  3   \n",
       "8         8                   Girls Nike Pro shorts                  3   \n",
       "9         9  Porcelain clown doll checker pants VTG                  3   \n",
       "\n",
       "                                       category_name       brand_name  price  \\\n",
       "0                                  Men/Tops/T-shirts              NaN   10.0   \n",
       "1  Electronics/Computers & Tablets/Components & P...            Razer   52.0   \n",
       "2                        Women/Tops & Blouses/Blouse           Target   10.0   \n",
       "3                 Home/Home Décor/Home Décor Accents              NaN   35.0   \n",
       "4                            Women/Jewelry/Necklaces              NaN   44.0   \n",
       "5                                  Women/Other/Other              NaN   59.0   \n",
       "6                           Women/Swimwear/Two-Piece  Acacia Swimwear   64.0   \n",
       "7                    Sports & Outdoors/Apparel/Girls            Soffe    6.0   \n",
       "8                    Sports & Outdoors/Apparel/Girls             Nike   19.0   \n",
       "9           Vintage & Collectibles/Collectibles/Doll              NaN    8.0   \n",
       "\n",
       "   shipping                                   item_description  \n",
       "0         1                                 No description yet  \n",
       "1         0  This keyboard is in great condition and works ...  \n",
       "2         1  Adorable top with a hint of lace and a key hol...  \n",
       "3         1  New with tags. Leather horses. Retail for [rm]...  \n",
       "4         0          Complete with certificate of authenticity  \n",
       "5         0  Banana republic bottoms, Candies skirt with ma...  \n",
       "6         0  Size small but straps slightly shortened to fi...  \n",
       "7         1  You get three pairs of Sophie cheer shorts siz...  \n",
       "8         0   Girls Size small Plus green. Three shorts total.  \n",
       "9         0  I realized his pants are on backwards after th...  "
      ]
     },
     "execution_count": 14,
     "metadata": {},
     "output_type": "execute_result"
    }
   ],
   "source": [
    "train.head(10)"
   ]
  },
  {
   "cell_type": "code",
   "execution_count": 15,
   "id": "interior-syria",
   "metadata": {
    "execution": {
     "iopub.execute_input": "2021-05-22T10:43:16.110892Z",
     "iopub.status.busy": "2021-05-22T10:43:16.110168Z",
     "iopub.status.idle": "2021-05-22T10:43:16.142123Z",
     "shell.execute_reply": "2021-05-22T10:43:16.141445Z",
     "shell.execute_reply.started": "2021-05-22T08:13:04.634173Z"
    },
    "papermill": {
     "duration": 0.146974,
     "end_time": "2021-05-22T10:43:16.142275",
     "exception": false,
     "start_time": "2021-05-22T10:43:15.995301",
     "status": "completed"
    },
    "tags": []
   },
   "outputs": [],
   "source": [
    "# Create log price variable (Transformation)\n",
    "y = np.log1p(train['price'])"
   ]
  },
  {
   "cell_type": "code",
   "execution_count": 16,
   "id": "ignored-roberts",
   "metadata": {
    "execution": {
     "iopub.execute_input": "2021-05-22T10:43:16.362431Z",
     "iopub.status.busy": "2021-05-22T10:43:16.361770Z",
     "iopub.status.idle": "2021-05-22T10:43:16.929894Z",
     "shell.execute_reply": "2021-05-22T10:43:16.929250Z",
     "shell.execute_reply.started": "2021-05-22T08:13:04.670906Z"
    },
    "papermill": {
     "duration": 0.680245,
     "end_time": "2021-05-22T10:43:16.930023",
     "exception": false,
     "start_time": "2021-05-22T10:43:16.249778",
     "status": "completed"
    },
    "tags": []
   },
   "outputs": [
    {
     "name": "stdout",
     "output_type": "stream",
     "text": [
      "<class 'pandas.core.frame.DataFrame'>\n",
      "RangeIndex: 1482535 entries, 0 to 1482534\n",
      "Data columns (total 8 columns):\n",
      " #   Column             Non-Null Count    Dtype  \n",
      "---  ------             --------------    -----  \n",
      " 0   train_id           1482535 non-null  int64  \n",
      " 1   name               1482535 non-null  object \n",
      " 2   item_condition_id  1482535 non-null  int64  \n",
      " 3   category_name      1476208 non-null  object \n",
      " 4   brand_name         849853 non-null   object \n",
      " 5   price              1482535 non-null  float64\n",
      " 6   shipping           1482535 non-null  int64  \n",
      " 7   item_description   1482531 non-null  object \n",
      "dtypes: float64(1), int64(3), object(4)\n",
      "memory usage: 90.5+ MB\n"
     ]
    }
   ],
   "source": [
    "train.info()"
   ]
  },
  {
   "cell_type": "markdown",
   "id": "afraid-outside",
   "metadata": {
    "papermill": {
     "duration": 0.103007,
     "end_time": "2021-05-22T10:43:17.137308",
     "exception": false,
     "start_time": "2021-05-22T10:43:17.034301",
     "status": "completed"
    },
    "tags": []
   },
   "source": [
    "*category_name, brand_name, item_description có chứa giá trị null*"
   ]
  },
  {
   "cell_type": "code",
   "execution_count": 17,
   "id": "charitable-doctor",
   "metadata": {
    "execution": {
     "iopub.execute_input": "2021-05-22T10:43:17.352298Z",
     "iopub.status.busy": "2021-05-22T10:43:17.351662Z",
     "iopub.status.idle": "2021-05-22T10:43:18.324039Z",
     "shell.execute_reply": "2021-05-22T10:43:18.323532Z",
     "shell.execute_reply.started": "2021-05-22T08:13:05.251802Z"
    },
    "papermill": {
     "duration": 1.081857,
     "end_time": "2021-05-22T10:43:18.324195",
     "exception": false,
     "start_time": "2021-05-22T10:43:17.242338",
     "status": "completed"
    },
    "tags": []
   },
   "outputs": [],
   "source": [
    "# Create combined set. You would want to apply count vectorizer on combined set so you can get the list of all possible words.\n",
    "combined = pd.concat([train,test])\n",
    "\n",
    "# Create the submission set (Only contains the test ID)\n",
    "submission = test[['test_id']]\n",
    "\n",
    "# Create size of train\n",
    "train_size = len(train)"
   ]
  },
  {
   "cell_type": "code",
   "execution_count": 18,
   "id": "worthy-comfort",
   "metadata": {
    "execution": {
     "iopub.execute_input": "2021-05-22T10:43:18.536453Z",
     "iopub.status.busy": "2021-05-22T10:43:18.535701Z",
     "iopub.status.idle": "2021-05-22T10:43:18.540961Z",
     "shell.execute_reply": "2021-05-22T10:43:18.540478Z",
     "shell.execute_reply.started": "2021-05-22T08:13:06.210264Z"
    },
    "papermill": {
     "duration": 0.113245,
     "end_time": "2021-05-22T10:43:18.541129",
     "exception": false,
     "start_time": "2021-05-22T10:43:18.427884",
     "status": "completed"
    },
    "tags": []
   },
   "outputs": [
    {
     "data": {
      "text/plain": [
       "(4943260, 9)"
      ]
     },
     "execution_count": 18,
     "metadata": {},
     "output_type": "execute_result"
    }
   ],
   "source": [
    "combined.shape"
   ]
  },
  {
   "cell_type": "markdown",
   "id": "rental-local",
   "metadata": {
    "papermill": {
     "duration": 0.104981,
     "end_time": "2021-05-22T10:43:18.750010",
     "exception": false,
     "start_time": "2021-05-22T10:43:18.645029",
     "status": "completed"
    },
    "tags": []
   },
   "source": [
    "*tổng dữ liệu khi hợp nhất train và test là : 4943260*"
   ]
  },
  {
   "cell_type": "code",
   "execution_count": 19,
   "id": "prime-polymer",
   "metadata": {
    "execution": {
     "iopub.execute_input": "2021-05-22T10:43:18.965559Z",
     "iopub.status.busy": "2021-05-22T10:43:18.964491Z",
     "iopub.status.idle": "2021-05-22T10:43:20.892379Z",
     "shell.execute_reply": "2021-05-22T10:43:20.891713Z",
     "shell.execute_reply.started": "2021-05-22T08:13:06.218146Z"
    },
    "papermill": {
     "duration": 2.038779,
     "end_time": "2021-05-22T10:43:20.892552",
     "exception": false,
     "start_time": "2021-05-22T10:43:18.853773",
     "status": "completed"
    },
    "tags": []
   },
   "outputs": [],
   "source": [
    "combined_ML = combined.sample(frac=0.1).reset_index(drop=True)"
   ]
  },
  {
   "cell_type": "code",
   "execution_count": 20,
   "id": "bizarre-mentor",
   "metadata": {
    "execution": {
     "iopub.execute_input": "2021-05-22T10:43:21.105475Z",
     "iopub.status.busy": "2021-05-22T10:43:21.104811Z",
     "iopub.status.idle": "2021-05-22T10:43:21.107293Z",
     "shell.execute_reply": "2021-05-22T10:43:21.107860Z",
     "shell.execute_reply.started": "2021-05-22T08:13:08.174453Z"
    },
    "papermill": {
     "duration": 0.112227,
     "end_time": "2021-05-22T10:43:21.108015",
     "exception": false,
     "start_time": "2021-05-22T10:43:20.995788",
     "status": "completed"
    },
    "tags": []
   },
   "outputs": [
    {
     "data": {
      "text/plain": [
       "(494326, 9)"
      ]
     },
     "execution_count": 20,
     "metadata": {},
     "output_type": "execute_result"
    }
   ],
   "source": [
    "combined_ML.shape"
   ]
  },
  {
   "cell_type": "code",
   "execution_count": 21,
   "id": "valid-craps",
   "metadata": {
    "execution": {
     "iopub.execute_input": "2021-05-22T10:43:21.320147Z",
     "iopub.status.busy": "2021-05-22T10:43:21.319538Z",
     "iopub.status.idle": "2021-05-22T10:43:21.399037Z",
     "shell.execute_reply": "2021-05-22T10:43:21.398516Z",
     "shell.execute_reply.started": "2021-05-22T08:13:08.183177Z"
    },
    "papermill": {
     "duration": 0.186891,
     "end_time": "2021-05-22T10:43:21.399202",
     "exception": false,
     "start_time": "2021-05-22T10:43:21.212311",
     "status": "completed"
    },
    "tags": []
   },
   "outputs": [
    {
     "data": {
      "text/plain": [
       "count    1482535.000000\n",
       "mean          26.737516\n",
       "std           38.586066\n",
       "min            0.000000\n",
       "25%           10.000000\n",
       "50%           17.000000\n",
       "75%           29.000000\n",
       "max         2009.000000\n",
       "Name: price, dtype: object"
      ]
     },
     "execution_count": 21,
     "metadata": {},
     "output_type": "execute_result"
    }
   ],
   "source": [
    "train.price.describe().apply(lambda x: format(x, 'f'))"
   ]
  },
  {
   "cell_type": "markdown",
   "id": "armed-vacuum",
   "metadata": {
    "papermill": {
     "duration": 0.105143,
     "end_time": "2021-05-22T10:43:21.609116",
     "exception": false,
     "start_time": "2021-05-22T10:43:21.503973",
     "status": "completed"
    },
    "tags": []
   },
   "source": [
    "* Giá trung bình trong tập dữ liệu là 26 đô la\n",
    "* Giá trị trung vị trong tập dữ liệu là 17 Đô la\n",
    "* Giá tối đa trong tập dữ liệu là 2000 Đô la\n",
    "* Do tập dữ liệu sai lệch, giá trung bình là mức giá đáng tin cậy hơn để đánh giá."
   ]
  },
  {
   "cell_type": "code",
   "execution_count": 22,
   "id": "alternative-virus",
   "metadata": {
    "execution": {
     "iopub.execute_input": "2021-05-22T10:43:21.822390Z",
     "iopub.status.busy": "2021-05-22T10:43:21.821736Z",
     "iopub.status.idle": "2021-05-22T10:43:21.840446Z",
     "shell.execute_reply": "2021-05-22T10:43:21.840941Z",
     "shell.execute_reply.started": "2021-05-22T08:13:08.266702Z"
    },
    "papermill": {
     "duration": 0.127239,
     "end_time": "2021-05-22T10:43:21.841113",
     "exception": false,
     "start_time": "2021-05-22T10:43:21.713874",
     "status": "completed"
    },
    "tags": []
   },
   "outputs": [
    {
     "data": {
      "text/plain": [
       "170.0"
      ]
     },
     "execution_count": 22,
     "metadata": {},
     "output_type": "execute_result"
    }
   ],
   "source": [
    "np.percentile(train.price, 99)"
   ]
  },
  {
   "cell_type": "markdown",
   "id": "bored-granny",
   "metadata": {
    "papermill": {
     "duration": 0.105079,
     "end_time": "2021-05-22T10:43:22.052336",
     "exception": false,
     "start_time": "2021-05-22T10:43:21.947257",
     "status": "completed"
    },
    "tags": []
   },
   "source": [
    "**Loại bỏ chấm câu - punctuation**"
   ]
  },
  {
   "cell_type": "code",
   "execution_count": 23,
   "id": "controlled-reserve",
   "metadata": {
    "execution": {
     "iopub.execute_input": "2021-05-22T10:43:22.264294Z",
     "iopub.status.busy": "2021-05-22T10:43:22.263664Z",
     "iopub.status.idle": "2021-05-22T10:43:22.267891Z",
     "shell.execute_reply": "2021-05-22T10:43:22.267424Z",
     "shell.execute_reply.started": "2021-05-22T08:13:08.293703Z"
    },
    "papermill": {
     "duration": 0.110636,
     "end_time": "2021-05-22T10:43:22.268024",
     "exception": false,
     "start_time": "2021-05-22T10:43:22.157388",
     "status": "completed"
    },
    "tags": []
   },
   "outputs": [],
   "source": [
    "from string import punctuation"
   ]
  },
  {
   "cell_type": "code",
   "execution_count": 24,
   "id": "large-vitamin",
   "metadata": {
    "execution": {
     "iopub.execute_input": "2021-05-22T10:43:22.482062Z",
     "iopub.status.busy": "2021-05-22T10:43:22.481458Z",
     "iopub.status.idle": "2021-05-22T10:43:22.484195Z",
     "shell.execute_reply": "2021-05-22T10:43:22.484720Z",
     "shell.execute_reply.started": "2021-05-22T08:13:08.301029Z"
    },
    "papermill": {
     "duration": 0.111955,
     "end_time": "2021-05-22T10:43:22.484880",
     "exception": false,
     "start_time": "2021-05-22T10:43:22.372925",
     "status": "completed"
    },
    "tags": []
   },
   "outputs": [
    {
     "data": {
      "text/plain": [
       "'!\"#$%&\\'()*+,-./:;<=>?@[\\\\]^_`{|}~'"
      ]
     },
     "execution_count": 24,
     "metadata": {},
     "output_type": "execute_result"
    }
   ],
   "source": [
    "punctuation"
   ]
  },
  {
   "cell_type": "code",
   "execution_count": 25,
   "id": "ruled-major",
   "metadata": {
    "execution": {
     "iopub.execute_input": "2021-05-22T10:43:22.697711Z",
     "iopub.status.busy": "2021-05-22T10:43:22.697098Z",
     "iopub.status.idle": "2021-05-22T10:43:22.700985Z",
     "shell.execute_reply": "2021-05-22T10:43:22.701567Z",
     "shell.execute_reply.started": "2021-05-22T08:13:08.314074Z"
    },
    "papermill": {
     "duration": 0.112172,
     "end_time": "2021-05-22T10:43:22.701721",
     "exception": false,
     "start_time": "2021-05-22T10:43:22.589549",
     "status": "completed"
    },
    "tags": []
   },
   "outputs": [],
   "source": [
    "import string\n",
    "def remove_punctuation(sentence: str) -> str:\n",
    "    return sentence.translate(str.maketrans('', '', string.punctuation))"
   ]
  },
  {
   "cell_type": "code",
   "execution_count": 26,
   "id": "immune-cooper",
   "metadata": {
    "execution": {
     "iopub.execute_input": "2021-05-22T10:43:22.917588Z",
     "iopub.status.busy": "2021-05-22T10:43:22.916994Z",
     "iopub.status.idle": "2021-05-22T10:43:22.924094Z",
     "shell.execute_reply": "2021-05-22T10:43:22.924560Z",
     "shell.execute_reply.started": "2021-05-22T08:13:08.326142Z"
    },
    "papermill": {
     "duration": 0.114503,
     "end_time": "2021-05-22T10:43:22.924710",
     "exception": false,
     "start_time": "2021-05-22T10:43:22.810207",
     "status": "completed"
    },
    "tags": []
   },
   "outputs": [
    {
     "data": {
      "text/plain": [
       "[('!', ''),\n",
       " ('\"', ''),\n",
       " ('#', ''),\n",
       " ('$', ''),\n",
       " ('%', ''),\n",
       " ('&', ''),\n",
       " (\"'\", ''),\n",
       " ('(', ''),\n",
       " (')', ''),\n",
       " ('*', ''),\n",
       " ('+', ''),\n",
       " (',', ''),\n",
       " ('-', ''),\n",
       " ('.', ''),\n",
       " ('/', ''),\n",
       " (':', ''),\n",
       " (';', ''),\n",
       " ('<', ''),\n",
       " ('=', ''),\n",
       " ('>', ''),\n",
       " ('?', ''),\n",
       " ('@', ''),\n",
       " ('[', ''),\n",
       " ('\\\\', ''),\n",
       " (']', ''),\n",
       " ('^', ''),\n",
       " ('_', ''),\n",
       " ('`', ''),\n",
       " ('{', ''),\n",
       " ('|', ''),\n",
       " ('}', ''),\n",
       " ('~', '')]"
      ]
     },
     "execution_count": 26,
     "metadata": {},
     "output_type": "execute_result"
    }
   ],
   "source": [
    "# Create a list of punctuation replacements\n",
    "punctuation_symbols = []\n",
    "for symbol in punctuation:\n",
    "    punctuation_symbols.append((symbol, ''))\n",
    "    \n",
    "punctuation_symbols"
   ]
  },
  {
   "cell_type": "markdown",
   "id": "explicit-holly",
   "metadata": {
    "papermill": {
     "duration": 0.105319,
     "end_time": "2021-05-22T10:43:23.135961",
     "exception": false,
     "start_time": "2021-05-22T10:43:23.030642",
     "status": "completed"
    },
    "tags": []
   },
   "source": [
    "**Loại bỏ chữ số**"
   ]
  },
  {
   "cell_type": "code",
   "execution_count": 27,
   "id": "separate-wholesale",
   "metadata": {
    "execution": {
     "iopub.execute_input": "2021-05-22T10:43:23.350676Z",
     "iopub.status.busy": "2021-05-22T10:43:23.350041Z",
     "iopub.status.idle": "2021-05-22T10:43:23.354247Z",
     "shell.execute_reply": "2021-05-22T10:43:23.354689Z",
     "shell.execute_reply.started": "2021-05-22T08:13:08.343807Z"
    },
    "papermill": {
     "duration": 0.113433,
     "end_time": "2021-05-22T10:43:23.354856",
     "exception": false,
     "start_time": "2021-05-22T10:43:23.241423",
     "status": "completed"
    },
    "tags": []
   },
   "outputs": [],
   "source": [
    "def remove_digits(x):\n",
    "    x = ''.join([i for i in x if not i.isdigit()])\n",
    "    return x"
   ]
  },
  {
   "cell_type": "markdown",
   "id": "ceramic-mumbai",
   "metadata": {
    "papermill": {
     "duration": 0.105524,
     "end_time": "2021-05-22T10:43:23.616802",
     "exception": false,
     "start_time": "2021-05-22T10:43:23.511278",
     "status": "completed"
    },
    "tags": []
   },
   "source": [
    "**Loại bỏ từ dừng - stopword**"
   ]
  },
  {
   "cell_type": "code",
   "execution_count": 28,
   "id": "unavailable-presentation",
   "metadata": {
    "execution": {
     "iopub.execute_input": "2021-05-22T10:43:23.832294Z",
     "iopub.status.busy": "2021-05-22T10:43:23.831670Z",
     "iopub.status.idle": "2021-05-22T10:43:24.437248Z",
     "shell.execute_reply": "2021-05-22T10:43:24.436513Z",
     "shell.execute_reply.started": "2021-05-22T08:13:08.356643Z"
    },
    "papermill": {
     "duration": 0.714144,
     "end_time": "2021-05-22T10:43:24.437396",
     "exception": false,
     "start_time": "2021-05-22T10:43:23.723252",
     "status": "completed"
    },
    "tags": []
   },
   "outputs": [],
   "source": [
    "from nltk.corpus import stopwords\n",
    "\n",
    "stop = stopwords.words('english')\n",
    "\n",
    "def remove_stop_words(x):\n",
    "    x = ' '.join([i for i in x.lower().split(' ') if i not in stop])\n",
    "    return x"
   ]
  },
  {
   "cell_type": "markdown",
   "id": "great-protest",
   "metadata": {
    "papermill": {
     "duration": 0.106211,
     "end_time": "2021-05-22T10:43:24.649824",
     "exception": false,
     "start_time": "2021-05-22T10:43:24.543613",
     "status": "completed"
    },
    "tags": []
   },
   "source": [
    "**Trường hợp với chữ thường**"
   ]
  },
  {
   "cell_type": "code",
   "execution_count": 29,
   "id": "august-center",
   "metadata": {
    "execution": {
     "iopub.execute_input": "2021-05-22T10:43:24.864873Z",
     "iopub.status.busy": "2021-05-22T10:43:24.864274Z",
     "iopub.status.idle": "2021-05-22T10:43:24.868328Z",
     "shell.execute_reply": "2021-05-22T10:43:24.867812Z",
     "shell.execute_reply.started": "2021-05-22T08:13:09.064996Z"
    },
    "papermill": {
     "duration": 0.112385,
     "end_time": "2021-05-22T10:43:24.868460",
     "exception": false,
     "start_time": "2021-05-22T10:43:24.756075",
     "status": "completed"
    },
    "tags": []
   },
   "outputs": [],
   "source": [
    "def to_lower(x):\n",
    "    return x.lower()"
   ]
  },
  {
   "cell_type": "code",
   "execution_count": 30,
   "id": "provincial-cloud",
   "metadata": {
    "execution": {
     "iopub.execute_input": "2021-05-22T10:43:25.085983Z",
     "iopub.status.busy": "2021-05-22T10:43:25.085374Z",
     "iopub.status.idle": "2021-05-22T10:43:25.622456Z",
     "shell.execute_reply": "2021-05-22T10:43:25.621932Z",
     "shell.execute_reply.started": "2021-05-22T08:13:09.073234Z"
    },
    "papermill": {
     "duration": 0.647758,
     "end_time": "2021-05-22T10:43:25.622590",
     "exception": false,
     "start_time": "2021-05-22T10:43:24.974832",
     "status": "completed"
    },
    "tags": []
   },
   "outputs": [
    {
     "data": {
      "text/plain": [
       "train_id             1482535\n",
       "name                 1482535\n",
       "item_condition_id    1482535\n",
       "category_name        1476208\n",
       "brand_name            849853\n",
       "price                1482535\n",
       "shipping             1482535\n",
       "item_description     1482531\n",
       "dtype: int64"
      ]
     },
     "execution_count": 30,
     "metadata": {},
     "output_type": "execute_result"
    }
   ],
   "source": [
    "train.count()"
   ]
  },
  {
   "cell_type": "code",
   "execution_count": 31,
   "id": "intimate-beads",
   "metadata": {
    "execution": {
     "iopub.execute_input": "2021-05-22T10:43:25.844378Z",
     "iopub.status.busy": "2021-05-22T10:43:25.843657Z",
     "iopub.status.idle": "2021-05-22T10:43:25.847494Z",
     "shell.execute_reply": "2021-05-22T10:43:25.846892Z",
     "shell.execute_reply.started": "2021-05-22T08:13:09.634023Z"
    },
    "papermill": {
     "duration": 0.118363,
     "end_time": "2021-05-22T10:43:25.847633",
     "exception": false,
     "start_time": "2021-05-22T10:43:25.729270",
     "status": "completed"
    },
    "tags": []
   },
   "outputs": [
    {
     "data": {
      "text/plain": [
       "train_id               int64\n",
       "name                  object\n",
       "item_condition_id      int64\n",
       "category_name         object\n",
       "brand_name            object\n",
       "price                float64\n",
       "shipping               int64\n",
       "item_description      object\n",
       "dtype: object"
      ]
     },
     "execution_count": 31,
     "metadata": {},
     "output_type": "execute_result"
    }
   ],
   "source": [
    "train.dtypes"
   ]
  },
  {
   "cell_type": "code",
   "execution_count": 32,
   "id": "joint-juvenile",
   "metadata": {
    "execution": {
     "iopub.execute_input": "2021-05-22T10:43:26.067413Z",
     "iopub.status.busy": "2021-05-22T10:43:26.066720Z",
     "iopub.status.idle": "2021-05-22T10:43:26.140578Z",
     "shell.execute_reply": "2021-05-22T10:43:26.139975Z",
     "shell.execute_reply.started": "2021-05-22T08:13:09.64361Z"
    },
    "papermill": {
     "duration": 0.186294,
     "end_time": "2021-05-22T10:43:26.140715",
     "exception": false,
     "start_time": "2021-05-22T10:43:25.954421",
     "status": "completed"
    },
    "tags": []
   },
   "outputs": [
    {
     "data": {
      "text/plain": [
       "count    1.482535e+06\n",
       "mean     2.673752e+01\n",
       "std      3.858607e+01\n",
       "min      0.000000e+00\n",
       "25%      1.000000e+01\n",
       "50%      1.700000e+01\n",
       "75%      2.900000e+01\n",
       "max      2.009000e+03\n",
       "Name: price, dtype: float64"
      ]
     },
     "execution_count": 32,
     "metadata": {},
     "output_type": "execute_result"
    }
   ],
   "source": [
    "train.price.describe()"
   ]
  },
  {
   "cell_type": "code",
   "execution_count": 33,
   "id": "sophisticated-house",
   "metadata": {
    "execution": {
     "iopub.execute_input": "2021-05-22T10:43:26.363997Z",
     "iopub.status.busy": "2021-05-22T10:43:26.363361Z",
     "iopub.status.idle": "2021-05-22T10:43:26.555315Z",
     "shell.execute_reply": "2021-05-22T10:43:26.554754Z",
     "shell.execute_reply.started": "2021-05-22T08:13:09.736212Z"
    },
    "papermill": {
     "duration": 0.307416,
     "end_time": "2021-05-22T10:43:26.555449",
     "exception": false,
     "start_time": "2021-05-22T10:43:26.248033",
     "status": "completed"
    },
    "tags": []
   },
   "outputs": [
    {
     "data": {
      "text/html": [
       "<div>\n",
       "<style scoped>\n",
       "    .dataframe tbody tr th:only-of-type {\n",
       "        vertical-align: middle;\n",
       "    }\n",
       "\n",
       "    .dataframe tbody tr th {\n",
       "        vertical-align: top;\n",
       "    }\n",
       "\n",
       "    .dataframe thead th {\n",
       "        text-align: right;\n",
       "    }\n",
       "</style>\n",
       "<table border=\"1\" class=\"dataframe\">\n",
       "  <thead>\n",
       "    <tr style=\"text-align: right;\">\n",
       "      <th></th>\n",
       "      <th>count</th>\n",
       "      <th>mean</th>\n",
       "      <th>std</th>\n",
       "      <th>min</th>\n",
       "      <th>25%</th>\n",
       "      <th>50%</th>\n",
       "      <th>75%</th>\n",
       "      <th>max</th>\n",
       "    </tr>\n",
       "    <tr>\n",
       "      <th>price_bin</th>\n",
       "      <th></th>\n",
       "      <th></th>\n",
       "      <th></th>\n",
       "      <th></th>\n",
       "      <th></th>\n",
       "      <th></th>\n",
       "      <th></th>\n",
       "      <th></th>\n",
       "    </tr>\n",
       "  </thead>\n",
       "  <tbody>\n",
       "    <tr>\n",
       "      <th>q1</th>\n",
       "      <td>375615.0</td>\n",
       "      <td>7.715192</td>\n",
       "      <td>2.077888</td>\n",
       "      <td>3.0</td>\n",
       "      <td>6.0</td>\n",
       "      <td>8.0</td>\n",
       "      <td>10.0</td>\n",
       "      <td>10.0</td>\n",
       "    </tr>\n",
       "    <tr>\n",
       "      <th>q2</th>\n",
       "      <td>378177.0</td>\n",
       "      <td>13.842940</td>\n",
       "      <td>1.794584</td>\n",
       "      <td>10.5</td>\n",
       "      <td>12.0</td>\n",
       "      <td>14.0</td>\n",
       "      <td>15.0</td>\n",
       "      <td>17.0</td>\n",
       "    </tr>\n",
       "    <tr>\n",
       "      <th>q3</th>\n",
       "      <td>359743.0</td>\n",
       "      <td>22.555694</td>\n",
       "      <td>3.337832</td>\n",
       "      <td>17.5</td>\n",
       "      <td>20.0</td>\n",
       "      <td>22.0</td>\n",
       "      <td>25.0</td>\n",
       "      <td>29.0</td>\n",
       "    </tr>\n",
       "    <tr>\n",
       "      <th>q4</th>\n",
       "      <td>368123.0</td>\n",
       "      <td>63.527701</td>\n",
       "      <td>63.508250</td>\n",
       "      <td>29.5</td>\n",
       "      <td>35.0</td>\n",
       "      <td>45.0</td>\n",
       "      <td>66.0</td>\n",
       "      <td>2000.0</td>\n",
       "    </tr>\n",
       "  </tbody>\n",
       "</table>\n",
       "</div>"
      ],
      "text/plain": [
       "              count       mean        std   min   25%   50%   75%     max\n",
       "price_bin                                                                \n",
       "q1         375615.0   7.715192   2.077888   3.0   6.0   8.0  10.0    10.0\n",
       "q2         378177.0  13.842940   1.794584  10.5  12.0  14.0  15.0    17.0\n",
       "q3         359743.0  22.555694   3.337832  17.5  20.0  22.0  25.0    29.0\n",
       "q4         368123.0  63.527701  63.508250  29.5  35.0  45.0  66.0  2000.0"
      ]
     },
     "execution_count": 33,
     "metadata": {},
     "output_type": "execute_result"
    }
   ],
   "source": [
    "bins = [0, 10, 17, 29, 2001]\n",
    "labels = ['q1','q2','q3','q4']\n",
    "train['price_bin'] = pd.cut(train['price'], bins=bins, labels=labels)\n",
    "train.groupby('price_bin')['price'].describe()"
   ]
  },
  {
   "cell_type": "code",
   "execution_count": 34,
   "id": "numeric-oklahoma",
   "metadata": {
    "execution": {
     "iopub.execute_input": "2021-05-22T10:43:26.794875Z",
     "iopub.status.busy": "2021-05-22T10:43:26.794173Z",
     "iopub.status.idle": "2021-05-22T10:43:27.114885Z",
     "shell.execute_reply": "2021-05-22T10:43:27.114391Z",
     "shell.execute_reply.started": "2021-05-22T08:13:09.973671Z"
    },
    "papermill": {
     "duration": 0.452176,
     "end_time": "2021-05-22T10:43:27.115015",
     "exception": false,
     "start_time": "2021-05-22T10:43:26.662839",
     "status": "completed"
    },
    "tags": []
   },
   "outputs": [
    {
     "data": {
      "image/png": "[encoded data removed]",
      "text/plain": [
       "<Figure size 864x504 with 1 Axes>"
      ]
     },
     "metadata": {},
     "output_type": "display_data"
    }
   ],
   "source": [
    "plt.figure(figsize=(12, 7))\n",
    "plt.hist(train['price'], bins=50, range=[0,250], label='price')\n",
    "plt.title('Price Distribution', fontsize=15)\n",
    "plt.xlabel('Price', fontsize=15)\n",
    "plt.ylabel('Samples', fontsize=15)\n",
    "plt.xticks(fontsize=15)\n",
    "plt.yticks(fontsize=15)\n",
    "plt.legend(fontsize=15)\n",
    "plt.show()"
   ]
  },
  {
   "cell_type": "code",
   "execution_count": 35,
   "id": "dedicated-quilt",
   "metadata": {
    "execution": {
     "iopub.execute_input": "2021-05-22T10:43:27.340684Z",
     "iopub.status.busy": "2021-05-22T10:43:27.339897Z",
     "iopub.status.idle": "2021-05-22T10:43:28.002981Z",
     "shell.execute_reply": "2021-05-22T10:43:28.003490Z",
     "shell.execute_reply.started": "2021-05-22T08:13:10.356882Z"
    },
    "papermill": {
     "duration": 0.780663,
     "end_time": "2021-05-22T10:43:28.003658",
     "exception": false,
     "start_time": "2021-05-22T10:43:27.222995",
     "status": "completed"
    },
    "tags": []
   },
   "outputs": [
    {
     "data": {
      "image/png": "[encoded data removed]",
      "text/plain": [
       "<Figure size 864x504 with 1 Axes>"
      ]
     },
     "metadata": {},
     "output_type": "display_data"
    }
   ],
   "source": [
    "shipping = train[train['shipping']==1]['price']\n",
    "no_shipping = train[train['shipping']==0]['price']\n",
    "\n",
    "plt.figure(figsize=(12,7))\n",
    "plt.hist(shipping, bins=50, range=[0,250], alpha=0.7, label='Price With Shipping')\n",
    "plt.hist(no_shipping, bins=50, range=[0,250], alpha=0.7, label='Price With No Shipping')\n",
    "plt.title('Price Distrubtion With/Without Shipping', fontsize=15)\n",
    "plt.xlabel('Price')\n",
    "plt.ylabel('Normalized Samples')\n",
    "plt.xticks(fontsize=15)\n",
    "plt.yticks(fontsize=15)\n",
    "plt.legend(fontsize=15)\n",
    "plt.show()"
   ]
  },
  {
   "cell_type": "code",
   "execution_count": 36,
   "id": "cultural-dublin",
   "metadata": {
    "execution": {
     "iopub.execute_input": "2021-05-22T10:43:28.226687Z",
     "iopub.status.busy": "2021-05-22T10:43:28.226062Z",
     "iopub.status.idle": "2021-05-22T10:43:28.425905Z",
     "shell.execute_reply": "2021-05-22T10:43:28.426406Z",
     "shell.execute_reply.started": "2021-05-22T08:13:11.082251Z"
    },
    "papermill": {
     "duration": 0.313258,
     "end_time": "2021-05-22T10:43:28.426575",
     "exception": false,
     "start_time": "2021-05-22T10:43:28.113317",
     "status": "completed"
    },
    "tags": []
   },
   "outputs": [
    {
     "data": {
      "text/plain": [
       "4809"
      ]
     },
     "execution_count": 36,
     "metadata": {},
     "output_type": "execute_result"
    }
   ],
   "source": [
    "# Amount of unique brand names\n",
    "train['brand_name'].nunique()"
   ]
  },
  {
   "cell_type": "code",
   "execution_count": 37,
   "id": "working-quick",
   "metadata": {
    "execution": {
     "iopub.execute_input": "2021-05-22T10:43:28.901341Z",
     "iopub.status.busy": "2021-05-22T10:43:28.900684Z",
     "iopub.status.idle": "2021-05-22T10:43:29.200091Z",
     "shell.execute_reply": "2021-05-22T10:43:29.199547Z",
     "shell.execute_reply.started": "2021-05-22T08:13:11.294645Z"
    },
    "papermill": {
     "duration": 0.663689,
     "end_time": "2021-05-22T10:43:29.200247",
     "exception": false,
     "start_time": "2021-05-22T10:43:28.536558",
     "status": "completed"
    },
    "tags": []
   },
   "outputs": [
    {
     "data": {
      "image/png": "[encoded data removed]",
      "text/plain": [
       "<Figure size 720x432 with 1 Axes>"
      ]
     },
     "metadata": {},
     "output_type": "display_data"
    }
   ],
   "source": [
    "# Top 20 Brand Distribution\n",
    "b20 = train['brand_name'].value_counts()[0:20].reset_index().rename(columns={'index': 'brand_name', 'brand_name':'count'})\n",
    "ax = sns.barplot(x=\"brand_name\", y=\"count\", data=b20)\n",
    "ax.set_xticklabels(ax.get_xticklabels(),rotation=90)\n",
    "ax.set_title('Top 20 Brand Distribution', fontsize=15)\n",
    "plt.show()"
   ]
  },
  {
   "cell_type": "code",
   "execution_count": 38,
   "id": "suspected-playlist",
   "metadata": {
    "execution": {
     "iopub.execute_input": "2021-05-22T10:43:29.440444Z",
     "iopub.status.busy": "2021-05-22T10:43:29.439759Z",
     "iopub.status.idle": "2021-05-22T10:43:30.340289Z",
     "shell.execute_reply": "2021-05-22T10:43:30.339752Z",
     "shell.execute_reply.started": "2021-05-22T08:13:11.886406Z"
    },
    "papermill": {
     "duration": 1.027553,
     "end_time": "2021-05-22T10:43:30.340427",
     "exception": false,
     "start_time": "2021-05-22T10:43:29.312874",
     "status": "completed"
    },
    "tags": []
   },
   "outputs": [
    {
     "data": {
      "image/png": "[encoded data removed]",
      "text/plain": [
       "<Figure size 720x432 with 1 Axes>"
      ]
     },
     "metadata": {},
     "output_type": "display_data"
    },
    {
     "data": {
      "text/plain": [
       "PINK                 0.063644\n",
       "Nike                 0.063591\n",
       "Victoria's Secret    0.056523\n",
       "LuLaRoe              0.036505\n",
       "Apple                0.020382\n",
       "                       ...   \n",
       "CIOR                 0.000001\n",
       "Kryptonics           0.000001\n",
       "Filter               0.000001\n",
       "Dyson                0.000001\n",
       "Emu                  0.000001\n",
       "Name: brand_name, Length: 4809, dtype: float64"
      ]
     },
     "execution_count": 38,
     "metadata": {},
     "output_type": "execute_result"
    }
   ],
   "source": [
    "# Display Top 20 Expensive Brands By Mean Price\n",
    "top20_brand = train.groupby('brand_name', axis=0).mean()\n",
    "df_expPrice = pd.DataFrame(top20_brand.sort_values('price', ascending = False)['price'][0:20].reset_index())\n",
    "\n",
    "\n",
    "ax = sns.barplot(x=\"brand_name\", y=\"price\", data=df_expPrice)\n",
    "ax.set_xticklabels(ax.get_xticklabels(),rotation=90, fontsize=15)\n",
    "ax.set_title('Top 20 Expensive Brand', fontsize=15)\n",
    "plt.xticks(fontsize=15)\n",
    "plt.yticks(fontsize=15)\n",
    "plt.show()# Displayd frequency ratio of brand names\n",
    "train['brand_name'].value_counts(1)"
   ]
  },
  {
   "cell_type": "markdown",
   "id": "vital-hypothesis",
   "metadata": {
    "papermill": {
     "duration": 0.114115,
     "end_time": "2021-05-22T10:43:30.568921",
     "exception": false,
     "start_time": "2021-05-22T10:43:30.454806",
     "status": "completed"
    },
    "tags": []
   },
   "source": [
    "* Chúng em thấy có thể cần phải tách các danh mục để có thể so khớp các danh mục chung và có được thông tin chi tiết tốt hơn từ dữ liệu.\n",
    "* Tách category_name thành category_main, category_sub1, category_sub2"
   ]
  },
  {
   "cell_type": "code",
   "execution_count": 39,
   "id": "italian-syria",
   "metadata": {
    "execution": {
     "iopub.execute_input": "2021-05-22T10:43:30.817658Z",
     "iopub.status.busy": "2021-05-22T10:43:30.816573Z",
     "iopub.status.idle": "2021-05-22T10:43:36.443226Z",
     "shell.execute_reply": "2021-05-22T10:43:36.443711Z",
     "shell.execute_reply.started": "2021-05-22T08:13:13.010138Z"
    },
    "papermill": {
     "duration": 5.760725,
     "end_time": "2021-05-22T10:43:36.443895",
     "exception": false,
     "start_time": "2021-05-22T10:43:30.683170",
     "status": "completed"
    },
    "tags": []
   },
   "outputs": [
    {
     "data": {
      "text/html": [
       "<div>\n",
       "<style scoped>\n",
       "    .dataframe tbody tr th:only-of-type {\n",
       "        vertical-align: middle;\n",
       "    }\n",
       "\n",
       "    .dataframe tbody tr th {\n",
       "        vertical-align: top;\n",
       "    }\n",
       "\n",
       "    .dataframe thead th {\n",
       "        text-align: right;\n",
       "    }\n",
       "</style>\n",
       "<table border=\"1\" class=\"dataframe\">\n",
       "  <thead>\n",
       "    <tr style=\"text-align: right;\">\n",
       "      <th></th>\n",
       "      <th>category_main</th>\n",
       "      <th>category_sub1</th>\n",
       "      <th>category_sub2</th>\n",
       "      <th>price</th>\n",
       "    </tr>\n",
       "  </thead>\n",
       "  <tbody>\n",
       "    <tr>\n",
       "      <th>0</th>\n",
       "      <td>Men</td>\n",
       "      <td>Tops</td>\n",
       "      <td>T-shirts</td>\n",
       "      <td>10.0</td>\n",
       "    </tr>\n",
       "    <tr>\n",
       "      <th>1</th>\n",
       "      <td>Electronics</td>\n",
       "      <td>Computers &amp; Tablets</td>\n",
       "      <td>Components &amp; Parts</td>\n",
       "      <td>52.0</td>\n",
       "    </tr>\n",
       "    <tr>\n",
       "      <th>2</th>\n",
       "      <td>Women</td>\n",
       "      <td>Tops &amp; Blouses</td>\n",
       "      <td>Blouse</td>\n",
       "      <td>10.0</td>\n",
       "    </tr>\n",
       "    <tr>\n",
       "      <th>3</th>\n",
       "      <td>Home</td>\n",
       "      <td>Home Décor</td>\n",
       "      <td>Home Décor Accents</td>\n",
       "      <td>35.0</td>\n",
       "    </tr>\n",
       "    <tr>\n",
       "      <th>4</th>\n",
       "      <td>Women</td>\n",
       "      <td>Jewelry</td>\n",
       "      <td>Necklaces</td>\n",
       "      <td>44.0</td>\n",
       "    </tr>\n",
       "  </tbody>\n",
       "</table>\n",
       "</div>"
      ],
      "text/plain": [
       "  category_main        category_sub1       category_sub2  price\n",
       "0           Men                 Tops            T-shirts   10.0\n",
       "1   Electronics  Computers & Tablets  Components & Parts   52.0\n",
       "2         Women       Tops & Blouses              Blouse   10.0\n",
       "3          Home           Home Décor  Home Décor Accents   35.0\n",
       "4         Women              Jewelry           Necklaces   44.0"
      ]
     },
     "execution_count": 39,
     "metadata": {},
     "output_type": "execute_result"
    }
   ],
   "source": [
    "def transform_category_name(category_name):\n",
    "    try:\n",
    "        main, sub1, sub2= category_name.split('/')\n",
    "        return main, sub1, sub2\n",
    "    except:\n",
    "        return np.nan, np.nan, np.nan\n",
    "\n",
    "train['category_main'], train['category_sub1'], train['category_sub2'] = zip(*train['category_name'].apply(transform_category_name))\n",
    "\n",
    "cat_train = train[['category_main','category_sub1','category_sub2', 'price']]\n",
    "\n",
    "cat_train.head()"
   ]
  },
  {
   "cell_type": "code",
   "execution_count": 40,
   "id": "crucial-corruption",
   "metadata": {
    "execution": {
     "iopub.execute_input": "2021-05-22T10:43:36.676045Z",
     "iopub.status.busy": "2021-05-22T10:43:36.675144Z",
     "iopub.status.idle": "2021-05-22T10:43:37.114237Z",
     "shell.execute_reply": "2021-05-22T10:43:37.113723Z",
     "shell.execute_reply.started": "2021-05-22T08:13:23.137928Z"
    },
    "papermill": {
     "duration": 0.556117,
     "end_time": "2021-05-22T10:43:37.114377",
     "exception": false,
     "start_time": "2021-05-22T10:43:36.558260",
     "status": "completed"
    },
    "tags": []
   },
   "outputs": [
    {
     "data": {
      "text/html": [
       "<div>\n",
       "<style scoped>\n",
       "    .dataframe tbody tr th:only-of-type {\n",
       "        vertical-align: middle;\n",
       "    }\n",
       "\n",
       "    .dataframe tbody tr th {\n",
       "        vertical-align: top;\n",
       "    }\n",
       "\n",
       "    .dataframe thead th {\n",
       "        text-align: right;\n",
       "    }\n",
       "</style>\n",
       "<table border=\"1\" class=\"dataframe\">\n",
       "  <thead>\n",
       "    <tr style=\"text-align: right;\">\n",
       "      <th></th>\n",
       "      <th>count</th>\n",
       "      <th>mean</th>\n",
       "      <th>std</th>\n",
       "      <th>min</th>\n",
       "      <th>25%</th>\n",
       "      <th>50%</th>\n",
       "      <th>75%</th>\n",
       "      <th>max</th>\n",
       "    </tr>\n",
       "    <tr>\n",
       "      <th>category_main</th>\n",
       "      <th></th>\n",
       "      <th></th>\n",
       "      <th></th>\n",
       "      <th></th>\n",
       "      <th></th>\n",
       "      <th></th>\n",
       "      <th></th>\n",
       "      <th></th>\n",
       "    </tr>\n",
       "  </thead>\n",
       "  <tbody>\n",
       "    <tr>\n",
       "      <th>Beauty</th>\n",
       "      <td>207828.0</td>\n",
       "      <td>19.671536</td>\n",
       "      <td>21.360135</td>\n",
       "      <td>0.0</td>\n",
       "      <td>10.0</td>\n",
       "      <td>15.0</td>\n",
       "      <td>24.0</td>\n",
       "      <td>2000.0</td>\n",
       "    </tr>\n",
       "    <tr>\n",
       "      <th>Electronics</th>\n",
       "      <td>119631.0</td>\n",
       "      <td>34.191769</td>\n",
       "      <td>64.037637</td>\n",
       "      <td>0.0</td>\n",
       "      <td>9.0</td>\n",
       "      <td>15.0</td>\n",
       "      <td>30.0</td>\n",
       "      <td>1909.0</td>\n",
       "    </tr>\n",
       "    <tr>\n",
       "      <th>Handmade</th>\n",
       "      <td>30840.0</td>\n",
       "      <td>18.154410</td>\n",
       "      <td>27.756418</td>\n",
       "      <td>0.0</td>\n",
       "      <td>6.0</td>\n",
       "      <td>12.0</td>\n",
       "      <td>20.0</td>\n",
       "      <td>1750.0</td>\n",
       "    </tr>\n",
       "    <tr>\n",
       "      <th>Home</th>\n",
       "      <td>67871.0</td>\n",
       "      <td>24.536599</td>\n",
       "      <td>24.417061</td>\n",
       "      <td>0.0</td>\n",
       "      <td>12.0</td>\n",
       "      <td>18.0</td>\n",
       "      <td>29.0</td>\n",
       "      <td>848.0</td>\n",
       "    </tr>\n",
       "    <tr>\n",
       "      <th>Kids</th>\n",
       "      <td>171689.0</td>\n",
       "      <td>20.642315</td>\n",
       "      <td>22.730876</td>\n",
       "      <td>0.0</td>\n",
       "      <td>10.0</td>\n",
       "      <td>14.0</td>\n",
       "      <td>24.0</td>\n",
       "      <td>809.0</td>\n",
       "    </tr>\n",
       "    <tr>\n",
       "      <th>Men</th>\n",
       "      <td>93363.0</td>\n",
       "      <td>34.693347</td>\n",
       "      <td>41.264184</td>\n",
       "      <td>0.0</td>\n",
       "      <td>14.0</td>\n",
       "      <td>21.0</td>\n",
       "      <td>40.0</td>\n",
       "      <td>1309.0</td>\n",
       "    </tr>\n",
       "    <tr>\n",
       "      <th>Other</th>\n",
       "      <td>45351.0</td>\n",
       "      <td>20.809817</td>\n",
       "      <td>29.847758</td>\n",
       "      <td>0.0</td>\n",
       "      <td>9.0</td>\n",
       "      <td>14.0</td>\n",
       "      <td>23.0</td>\n",
       "      <td>1400.0</td>\n",
       "    </tr>\n",
       "    <tr>\n",
       "      <th>Sports &amp; Outdoors</th>\n",
       "      <td>24331.0</td>\n",
       "      <td>25.534565</td>\n",
       "      <td>29.324018</td>\n",
       "      <td>0.0</td>\n",
       "      <td>11.0</td>\n",
       "      <td>16.0</td>\n",
       "      <td>28.0</td>\n",
       "      <td>915.0</td>\n",
       "    </tr>\n",
       "    <tr>\n",
       "      <th>Vintage &amp; Collectibles</th>\n",
       "      <td>46530.0</td>\n",
       "      <td>27.339426</td>\n",
       "      <td>53.507495</td>\n",
       "      <td>0.0</td>\n",
       "      <td>10.0</td>\n",
       "      <td>16.0</td>\n",
       "      <td>27.0</td>\n",
       "      <td>1709.0</td>\n",
       "    </tr>\n",
       "    <tr>\n",
       "      <th>Women</th>\n",
       "      <td>664385.0</td>\n",
       "      <td>28.885496</td>\n",
       "      <td>39.443853</td>\n",
       "      <td>0.0</td>\n",
       "      <td>12.0</td>\n",
       "      <td>19.0</td>\n",
       "      <td>33.0</td>\n",
       "      <td>2009.0</td>\n",
       "    </tr>\n",
       "  </tbody>\n",
       "</table>\n",
       "</div>"
      ],
      "text/plain": [
       "                           count       mean        std  min   25%   50%   75%  \\\n",
       "category_main                                                                   \n",
       "Beauty                  207828.0  19.671536  21.360135  0.0  10.0  15.0  24.0   \n",
       "Electronics             119631.0  34.191769  64.037637  0.0   9.0  15.0  30.0   \n",
       "Handmade                 30840.0  18.154410  27.756418  0.0   6.0  12.0  20.0   \n",
       "Home                     67871.0  24.536599  24.417061  0.0  12.0  18.0  29.0   \n",
       "Kids                    171689.0  20.642315  22.730876  0.0  10.0  14.0  24.0   \n",
       "Men                      93363.0  34.693347  41.264184  0.0  14.0  21.0  40.0   \n",
       "Other                    45351.0  20.809817  29.847758  0.0   9.0  14.0  23.0   \n",
       "Sports & Outdoors        24331.0  25.534565  29.324018  0.0  11.0  16.0  28.0   \n",
       "Vintage & Collectibles   46530.0  27.339426  53.507495  0.0  10.0  16.0  27.0   \n",
       "Women                   664385.0  28.885496  39.443853  0.0  12.0  19.0  33.0   \n",
       "\n",
       "                           max  \n",
       "category_main                   \n",
       "Beauty                  2000.0  \n",
       "Electronics             1909.0  \n",
       "Handmade                1750.0  \n",
       "Home                     848.0  \n",
       "Kids                     809.0  \n",
       "Men                     1309.0  \n",
       "Other                   1400.0  \n",
       "Sports & Outdoors        915.0  \n",
       "Vintage & Collectibles  1709.0  \n",
       "Women                   2009.0  "
      ]
     },
     "execution_count": 40,
     "metadata": {},
     "output_type": "execute_result"
    }
   ],
   "source": [
    "# Electronics have the highest std\n",
    "train.groupby('category_main')['price'].describe()"
   ]
  },
  {
   "cell_type": "code",
   "execution_count": 41,
   "id": "documentary-mainstream",
   "metadata": {
    "execution": {
     "iopub.execute_input": "2021-05-22T10:43:37.708978Z",
     "iopub.status.busy": "2021-05-22T10:43:37.565752Z",
     "iopub.status.idle": "2021-05-22T10:43:37.717454Z",
     "shell.execute_reply": "2021-05-22T10:43:37.716795Z",
     "shell.execute_reply.started": "2021-05-22T08:13:23.85617Z"
    },
    "papermill": {
     "duration": 0.488108,
     "end_time": "2021-05-22T10:43:37.717606",
     "exception": false,
     "start_time": "2021-05-22T10:43:37.229498",
     "status": "completed"
    },
    "tags": []
   },
   "outputs": [
    {
     "data": {
      "text/plain": [
       "Women                     0.451404\n",
       "Beauty                    0.141205\n",
       "Kids                      0.116651\n",
       "Electronics               0.081281\n",
       "Men                       0.063434\n",
       "Home                      0.046114\n",
       "Vintage & Collectibles    0.031614\n",
       "Other                     0.030813\n",
       "Handmade                  0.020954\n",
       "Sports & Outdoors         0.016531\n",
       "Name: category_main, dtype: float64"
      ]
     },
     "execution_count": 41,
     "metadata": {},
     "output_type": "execute_result"
    }
   ],
   "source": [
    "# Display distribution\n",
    "train['category_main'].value_counts(1)"
   ]
  },
  {
   "cell_type": "code",
   "execution_count": 42,
   "id": "latest-journal",
   "metadata": {
    "execution": {
     "iopub.execute_input": "2021-05-22T10:43:38.314172Z",
     "iopub.status.busy": "2021-05-22T10:43:37.958671Z",
     "iopub.status.idle": "2021-05-22T10:43:39.979045Z",
     "shell.execute_reply": "2021-05-22T10:43:39.978495Z",
     "shell.execute_reply.started": "2021-05-22T08:13:24.290841Z"
    },
    "papermill": {
     "duration": 2.144273,
     "end_time": "2021-05-22T10:43:39.979225",
     "exception": false,
     "start_time": "2021-05-22T10:43:37.834952",
     "status": "completed"
    },
    "tags": []
   },
   "outputs": [
    {
     "data": {
      "image/png": "[encoded data removed]",
      "text/plain": [
       "<Figure size 1224x720 with 1 Axes>"
      ]
     },
     "metadata": {},
     "output_type": "display_data"
    }
   ],
   "source": [
    "plt.figure(figsize=(17,10))\n",
    "sns.countplot(y = train['category_main'], order = train['category_main'].value_counts().index, orient = 'v')\n",
    "plt.title('Top 10 Categories Main', fontsize = 25)\n",
    "plt.ylabel('Main Category', fontsize = 20)\n",
    "plt.xlabel('Number of Items in Main Category', fontsize = 20)\n",
    "plt.show()"
   ]
  },
  {
   "cell_type": "markdown",
   "id": "outdoor-joshua",
   "metadata": {
    "papermill": {
     "duration": 0.119052,
     "end_time": "2021-05-22T10:43:40.217360",
     "exception": false,
     "start_time": "2021-05-22T10:43:40.098308",
     "status": "completed"
    },
    "tags": []
   },
   "source": [
    "* Women và Beauty chiếm phần lớn trong phân phối\n",
    "* Women và Beauty chiếm 56% phân phối"
   ]
  },
  {
   "cell_type": "code",
   "execution_count": 43,
   "id": "proved-coast",
   "metadata": {
    "execution": {
     "iopub.execute_input": "2021-05-22T10:43:40.486069Z",
     "iopub.status.busy": "2021-05-22T10:43:40.480368Z",
     "iopub.status.idle": "2021-05-22T10:43:42.466412Z",
     "shell.execute_reply": "2021-05-22T10:43:42.466926Z",
     "shell.execute_reply.started": "2021-05-22T08:13:26.546056Z"
    },
    "papermill": {
     "duration": 2.12886,
     "end_time": "2021-05-22T10:43:42.467094",
     "exception": false,
     "start_time": "2021-05-22T10:43:40.338234",
     "status": "completed"
    },
    "tags": []
   },
   "outputs": [
    {
     "data": {
      "image/png": "[encoded data removed]",
      "text/plain": [
       "<Figure size 864x504 with 1 Axes>"
      ]
     },
     "metadata": {},
     "output_type": "display_data"
    }
   ],
   "source": [
    "#main = pd.DataFrame(cat_train['category_main'].value_counts()).reset_index().rename(columns={'index': 'main', 'category_main':'count'})\n",
    "fig, axes = plt.subplots(figsize=(12, 7))\n",
    "main = cat_train[cat_train[\"price\"]<100]\n",
    "# Use a color palette\n",
    "ax = sns.boxplot( x=main[\"category_main\"], y=main[\"price\"], palette=\"Blues\")\n",
    "ax.set_xticklabels(ax.get_xticklabels(),rotation=90, fontsize=12)\n",
    "\n",
    "plt.show()"
   ]
  },
  {
   "cell_type": "code",
   "execution_count": 44,
   "id": "israeli-hello",
   "metadata": {
    "execution": {
     "iopub.execute_input": "2021-05-22T10:43:42.708385Z",
     "iopub.status.busy": "2021-05-22T10:43:42.707728Z",
     "iopub.status.idle": "2021-05-22T10:43:42.821331Z",
     "shell.execute_reply": "2021-05-22T10:43:42.821902Z",
     "shell.execute_reply.started": "2021-05-22T08:13:28.563855Z"
    },
    "papermill": {
     "duration": 0.236466,
     "end_time": "2021-05-22T10:43:42.822081",
     "exception": false,
     "start_time": "2021-05-22T10:43:42.585615",
     "status": "completed"
    },
    "tags": []
   },
   "outputs": [],
   "source": [
    "# Create a \"no_brand\" column \n",
    "train['no_brand'] = train['brand_name'].isnull()"
   ]
  },
  {
   "cell_type": "code",
   "execution_count": 45,
   "id": "fossil-walnut",
   "metadata": {
    "execution": {
     "iopub.execute_input": "2021-05-22T10:43:43.220436Z",
     "iopub.status.busy": "2021-05-22T10:43:43.083655Z",
     "iopub.status.idle": "2021-05-22T10:43:45.768580Z",
     "shell.execute_reply": "2021-05-22T10:43:45.767766Z",
     "shell.execute_reply.started": "2021-05-22T08:13:28.677061Z"
    },
    "papermill": {
     "duration": 2.828831,
     "end_time": "2021-05-22T10:43:45.768718",
     "exception": false,
     "start_time": "2021-05-22T10:43:42.939887",
     "status": "completed"
    },
    "tags": []
   },
   "outputs": [
    {
     "data": {
      "image/png": "[encoded data removed]",
      "text/plain": [
       "<Figure size 1080x288 with 1 Axes>"
      ]
     },
     "metadata": {},
     "output_type": "display_data"
    }
   ],
   "source": [
    "f, ax = plt.subplots(figsize=(15, 4))\n",
    "sns.countplot(y='category_main', hue='no_brand', data=train).set_title('Category Distribution With/Without Brand');\n",
    "plt.show()"
   ]
  },
  {
   "cell_type": "markdown",
   "id": "solar-louisiana",
   "metadata": {
    "papermill": {
     "duration": 0.119299,
     "end_time": "2021-05-22T10:43:46.008507",
     "exception": false,
     "start_time": "2021-05-22T10:43:45.889208",
     "status": "completed"
    },
    "tags": []
   },
   "source": [
    "* Ta thấy sản phẩm của \"Men\" và \"Women\" không có nhãn hiệu phân phối nhiều hơn có nhãn hiệu\n",
    "* \"Electronics\" và \"Sport & Outdoors\" có nhãn hiệu phân phối nhiều hơn không nhãn hiệu\n",
    "* ..."
   ]
  },
  {
   "cell_type": "code",
   "execution_count": 46,
   "id": "vital-effectiveness",
   "metadata": {
    "execution": {
     "iopub.execute_input": "2021-05-22T10:43:46.580338Z",
     "iopub.status.busy": "2021-05-22T10:43:46.579677Z",
     "iopub.status.idle": "2021-05-22T10:43:46.943199Z",
     "shell.execute_reply": "2021-05-22T10:43:46.942603Z",
     "shell.execute_reply.started": "2021-05-22T08:13:31.416618Z"
    },
    "papermill": {
     "duration": 0.815017,
     "end_time": "2021-05-22T10:43:46.943341",
     "exception": false,
     "start_time": "2021-05-22T10:43:46.128324",
     "status": "completed"
    },
    "tags": []
   },
   "outputs": [
    {
     "data": {
      "image/png": "[encoded data removed]",
      "text/plain": [
       "<Figure size 1440x1080 with 1 Axes>"
      ]
     },
     "metadata": {},
     "output_type": "display_data"
    }
   ],
   "source": [
    "df = cat_train.groupby(['category_sub2'])['price'].agg(['mean']).reset_index().rename(columns={'index': 'main', 'category_main':'count'})\n",
    "df= df.sort_values('mean', ascending=False).head(20)\n",
    "\n",
    "plt.figure(figsize=(20, 15))\n",
    "plt.barh(range(0,len(df)), df['mean'], align='center', alpha=0.5, color='r')\n",
    "plt.yticks(range(0,len(df)), df['category_sub2'], fontsize=15)\n",
    "\n",
    "plt.xlabel('Price', fontsize=15)\n",
    "plt.ylabel('Sub Category 2', fontsize=15)\n",
    "plt.title('Top 20 2nd Category (Mean Price)', fontsize=20)\n",
    "plt.show()"
   ]
  },
  {
   "cell_type": "markdown",
   "id": "centered-limitation",
   "metadata": {
    "papermill": {
     "duration": 0.121922,
     "end_time": "2021-05-22T10:43:47.187217",
     "exception": false,
     "start_time": "2021-05-22T10:43:47.065295",
     "status": "completed"
    },
    "tags": []
   },
   "source": [
    "* Top 20 giá trung bình của các nhãn category_sub2"
   ]
  },
  {
   "cell_type": "code",
   "execution_count": 47,
   "id": "informal-dover",
   "metadata": {
    "execution": {
     "iopub.execute_input": "2021-05-22T10:43:47.731549Z",
     "iopub.status.busy": "2021-05-22T10:43:47.730376Z",
     "iopub.status.idle": "2021-05-22T10:43:48.068918Z",
     "shell.execute_reply": "2021-05-22T10:43:48.069487Z",
     "shell.execute_reply.started": "2021-05-22T08:13:32.135534Z"
    },
    "papermill": {
     "duration": 0.760117,
     "end_time": "2021-05-22T10:43:48.069659",
     "exception": false,
     "start_time": "2021-05-22T10:43:47.309542",
     "status": "completed"
    },
    "tags": []
   },
   "outputs": [
    {
     "data": {
      "image/png": "[encoded data removed]",
      "text/plain": [
       "<Figure size 1440x1080 with 1 Axes>"
      ]
     },
     "metadata": {},
     "output_type": "display_data"
    }
   ],
   "source": [
    "df = cat_train.groupby(['category_sub1'])['price'].agg(['mean']).reset_index().rename(columns={'index': 'main', 'category_main':'count'})\n",
    "df= df.sort_values('mean', ascending=False)[0:20]\n",
    "\n",
    "plt.figure(figsize=(20, 15))\n",
    "plt.barh(range(0,len(df)), df['mean'], align='center', alpha=0.5, color='b')\n",
    "plt.yticks(range(0,len(df)), df['category_sub1'], fontsize=15)\n",
    "\n",
    "plt.xlabel('Price', fontsize=15)\n",
    "plt.ylabel('Sub Category 1', fontsize=15)\n",
    "plt.title('Top 20 1st Category (Mean Price)', fontsize=20)\n",
    "plt.show()"
   ]
  },
  {
   "cell_type": "markdown",
   "id": "excessive-outside",
   "metadata": {
    "papermill": {
     "duration": 0.125606,
     "end_time": "2021-05-22T10:43:48.320453",
     "exception": false,
     "start_time": "2021-05-22T10:43:48.194847",
     "status": "completed"
    },
    "tags": []
   },
   "source": [
    "* Top 20 giá trung bình của các nhãn categoy_sub1"
   ]
  },
  {
   "cell_type": "code",
   "execution_count": 48,
   "id": "catholic-dominican",
   "metadata": {
    "execution": {
     "iopub.execute_input": "2021-05-22T10:43:48.576510Z",
     "iopub.status.busy": "2021-05-22T10:43:48.575572Z",
     "iopub.status.idle": "2021-05-22T10:43:48.618783Z",
     "shell.execute_reply": "2021-05-22T10:43:48.618117Z",
     "shell.execute_reply.started": "2021-05-22T08:13:32.7963Z"
    },
    "papermill": {
     "duration": 0.173204,
     "end_time": "2021-05-22T10:43:48.618923",
     "exception": false,
     "start_time": "2021-05-22T10:43:48.445719",
     "status": "completed"
    },
    "tags": []
   },
   "outputs": [],
   "source": [
    "train['price'] = np.log1p(train['price'])"
   ]
  },
  {
   "cell_type": "code",
   "execution_count": 49,
   "id": "legal-exhibition",
   "metadata": {
    "execution": {
     "iopub.execute_input": "2021-05-22T10:43:48.873411Z",
     "iopub.status.busy": "2021-05-22T10:43:48.872520Z",
     "iopub.status.idle": "2021-05-22T10:43:48.890681Z",
     "shell.execute_reply": "2021-05-22T10:43:48.890172Z",
     "shell.execute_reply.started": "2021-05-22T08:13:32.841898Z"
    },
    "papermill": {
     "duration": 0.147454,
     "end_time": "2021-05-22T10:43:48.890813",
     "exception": false,
     "start_time": "2021-05-22T10:43:48.743359",
     "status": "completed"
    },
    "tags": []
   },
   "outputs": [
    {
     "data": {
      "text/plain": [
       "0    819435\n",
       "1    663100\n",
       "Name: shipping, dtype: int64"
      ]
     },
     "execution_count": 49,
     "metadata": {},
     "output_type": "execute_result"
    }
   ],
   "source": [
    "train['shipping'].value_counts()"
   ]
  },
  {
   "cell_type": "code",
   "execution_count": 50,
   "id": "adolescent-territory",
   "metadata": {
    "execution": {
     "iopub.execute_input": "2021-05-22T10:43:49.143005Z",
     "iopub.status.busy": "2021-05-22T10:43:49.142336Z",
     "iopub.status.idle": "2021-05-22T10:43:50.939063Z",
     "shell.execute_reply": "2021-05-22T10:43:50.939528Z",
     "shell.execute_reply.started": "2021-05-22T08:13:32.861642Z"
    },
    "papermill": {
     "duration": 1.923993,
     "end_time": "2021-05-22T10:43:50.939717",
     "exception": false,
     "start_time": "2021-05-22T10:43:49.015724",
     "status": "completed"
    },
    "tags": []
   },
   "outputs": [
    {
     "data": {
      "text/plain": [
       "No description yet    82489\n",
       "New                    4099\n",
       "Brand new              3058\n",
       "Good condition         1274\n",
       "Great condition        1158\n",
       "Name: item_description, dtype: int64"
      ]
     },
     "execution_count": 50,
     "metadata": {},
     "output_type": "execute_result"
    }
   ],
   "source": [
    "train['item_description'].value_counts().head()"
   ]
  },
  {
   "cell_type": "code",
   "execution_count": 51,
   "id": "chinese-subcommittee",
   "metadata": {
    "execution": {
     "iopub.execute_input": "2021-05-22T10:43:51.194301Z",
     "iopub.status.busy": "2021-05-22T10:43:51.193648Z",
     "iopub.status.idle": "2021-05-22T10:43:51.211986Z",
     "shell.execute_reply": "2021-05-22T10:43:51.212502Z",
     "shell.execute_reply.started": "2021-05-22T08:13:34.666712Z"
    },
    "papermill": {
     "duration": 0.146486,
     "end_time": "2021-05-22T10:43:51.212678",
     "exception": false,
     "start_time": "2021-05-22T10:43:51.066192",
     "status": "completed"
    },
    "tags": []
   },
   "outputs": [
    {
     "data": {
      "text/plain": [
       "1    640549\n",
       "3    432161\n",
       "2    375479\n",
       "4     31962\n",
       "5      2384\n",
       "Name: item_condition_id, dtype: int64"
      ]
     },
     "execution_count": 51,
     "metadata": {},
     "output_type": "execute_result"
    }
   ],
   "source": [
    "train['item_condition_id'].value_counts()"
   ]
  },
  {
   "cell_type": "code",
   "execution_count": 52,
   "id": "chinese-huntington",
   "metadata": {
    "execution": {
     "iopub.execute_input": "2021-05-22T10:43:51.720957Z",
     "iopub.status.busy": "2021-05-22T10:43:51.720329Z",
     "iopub.status.idle": "2021-05-22T10:43:51.728892Z",
     "shell.execute_reply": "2021-05-22T10:43:51.728390Z",
     "shell.execute_reply.started": "2021-05-22T08:13:34.686975Z"
    },
    "papermill": {
     "duration": 0.389998,
     "end_time": "2021-05-22T10:43:51.729020",
     "exception": false,
     "start_time": "2021-05-22T10:43:51.339022",
     "status": "completed"
    },
    "tags": []
   },
   "outputs": [
    {
     "data": {
      "text/plain": [
       "PINK                 54088\n",
       "Nike                 54043\n",
       "Victoria's Secret    48036\n",
       "LuLaRoe              31024\n",
       "Apple                17322\n",
       "Name: brand_name, dtype: int64"
      ]
     },
     "execution_count": 52,
     "metadata": {},
     "output_type": "execute_result"
    }
   ],
   "source": [
    "train['brand_name'].value_counts().head()"
   ]
  },
  {
   "cell_type": "code",
   "execution_count": 53,
   "id": "tight-plastic",
   "metadata": {
    "execution": {
     "iopub.execute_input": "2021-05-22T10:43:52.316004Z",
     "iopub.status.busy": "2021-05-22T10:43:52.188029Z",
     "iopub.status.idle": "2021-05-22T10:43:52.324291Z",
     "shell.execute_reply": "2021-05-22T10:43:52.323645Z",
     "shell.execute_reply.started": "2021-05-22T08:13:34.948686Z"
    },
    "papermill": {
     "duration": 0.467824,
     "end_time": "2021-05-22T10:43:52.324472",
     "exception": false,
     "start_time": "2021-05-22T10:43:51.856648",
     "status": "completed"
    },
    "tags": []
   },
   "outputs": [
    {
     "data": {
      "text/plain": [
       "Women/Athletic Apparel/Pants, Tights, Leggings                 60177\n",
       "Women/Tops & Blouses/T-Shirts                                  46380\n",
       "Beauty/Makeup/Face                                             34335\n",
       "Beauty/Makeup/Lips                                             29910\n",
       "Electronics/Video Games & Consoles/Games                       26557\n",
       "Beauty/Makeup/Eyes                                             25215\n",
       "Electronics/Cell Phones & Accessories/Cases, Covers & Skins    24676\n",
       "Women/Underwear/Bras                                           21274\n",
       "Women/Tops & Blouses/Blouse                                    20284\n",
       "Women/Tops & Blouses/Tank, Cami                                20284\n",
       "Name: category_name, dtype: int64"
      ]
     },
     "execution_count": 53,
     "metadata": {},
     "output_type": "execute_result"
    }
   ],
   "source": [
    "train['category_name'].value_counts().head(10)"
   ]
  },
  {
   "cell_type": "code",
   "execution_count": 54,
   "id": "meaningful-cradle",
   "metadata": {
    "execution": {
     "iopub.execute_input": "2021-05-22T10:43:52.583318Z",
     "iopub.status.busy": "2021-05-22T10:43:52.582661Z",
     "iopub.status.idle": "2021-05-22T10:43:52.585994Z",
     "shell.execute_reply": "2021-05-22T10:43:52.585399Z",
     "shell.execute_reply.started": "2021-05-22T08:13:35.288906Z"
    },
    "papermill": {
     "duration": 0.134774,
     "end_time": "2021-05-22T10:43:52.586147",
     "exception": false,
     "start_time": "2021-05-22T10:43:52.451373",
     "status": "completed"
    },
    "tags": []
   },
   "outputs": [
    {
     "name": "stdout",
     "output_type": "stream",
     "text": [
      "Train data shape: (1482535, 13)\n",
      "Test data shape: (3460725, 7)\n"
     ]
    }
   ],
   "source": [
    "print (\"Train data shape:\", train.shape)\n",
    "print (\"Test data shape:\", test.shape)"
   ]
  },
  {
   "cell_type": "code",
   "execution_count": 55,
   "id": "satisfied-miracle",
   "metadata": {
    "execution": {
     "iopub.execute_input": "2021-05-22T10:43:52.881487Z",
     "iopub.status.busy": "2021-05-22T10:43:52.880533Z",
     "iopub.status.idle": "2021-05-22T10:43:52.885834Z",
     "shell.execute_reply": "2021-05-22T10:43:52.885272Z",
     "shell.execute_reply.started": "2021-05-22T08:13:35.296512Z"
    },
    "papermill": {
     "duration": 0.17323,
     "end_time": "2021-05-22T10:43:52.885974",
     "exception": false,
     "start_time": "2021-05-22T10:43:52.712744",
     "status": "completed"
    },
    "tags": []
   },
   "outputs": [
    {
     "data": {
      "text/html": [
       "<div>\n",
       "<style scoped>\n",
       "    .dataframe tbody tr th:only-of-type {\n",
       "        vertical-align: middle;\n",
       "    }\n",
       "\n",
       "    .dataframe tbody tr th {\n",
       "        vertical-align: top;\n",
       "    }\n",
       "\n",
       "    .dataframe thead th {\n",
       "        text-align: right;\n",
       "    }\n",
       "</style>\n",
       "<table border=\"1\" class=\"dataframe\">\n",
       "  <thead>\n",
       "    <tr style=\"text-align: right;\">\n",
       "      <th></th>\n",
       "      <th>train_id</th>\n",
       "      <th>name</th>\n",
       "      <th>item_condition_id</th>\n",
       "      <th>category_name</th>\n",
       "      <th>brand_name</th>\n",
       "      <th>price</th>\n",
       "      <th>shipping</th>\n",
       "      <th>item_description</th>\n",
       "      <th>price_bin</th>\n",
       "      <th>category_main</th>\n",
       "      <th>category_sub1</th>\n",
       "      <th>category_sub2</th>\n",
       "      <th>no_brand</th>\n",
       "    </tr>\n",
       "  </thead>\n",
       "  <tbody>\n",
       "    <tr>\n",
       "      <th>0</th>\n",
       "      <td>0</td>\n",
       "      <td>MLB Cincinnati Reds T Shirt Size XL</td>\n",
       "      <td>3</td>\n",
       "      <td>Men/Tops/T-shirts</td>\n",
       "      <td>NaN</td>\n",
       "      <td>2.397895</td>\n",
       "      <td>1</td>\n",
       "      <td>No description yet</td>\n",
       "      <td>q1</td>\n",
       "      <td>Men</td>\n",
       "      <td>Tops</td>\n",
       "      <td>T-shirts</td>\n",
       "      <td>True</td>\n",
       "    </tr>\n",
       "    <tr>\n",
       "      <th>1</th>\n",
       "      <td>1</td>\n",
       "      <td>Razer BlackWidow Chroma Keyboard</td>\n",
       "      <td>3</td>\n",
       "      <td>Electronics/Computers &amp; Tablets/Components &amp; P...</td>\n",
       "      <td>Razer</td>\n",
       "      <td>3.970292</td>\n",
       "      <td>0</td>\n",
       "      <td>This keyboard is in great condition and works ...</td>\n",
       "      <td>q4</td>\n",
       "      <td>Electronics</td>\n",
       "      <td>Computers &amp; Tablets</td>\n",
       "      <td>Components &amp; Parts</td>\n",
       "      <td>False</td>\n",
       "    </tr>\n",
       "    <tr>\n",
       "      <th>2</th>\n",
       "      <td>2</td>\n",
       "      <td>AVA-VIV Blouse</td>\n",
       "      <td>1</td>\n",
       "      <td>Women/Tops &amp; Blouses/Blouse</td>\n",
       "      <td>Target</td>\n",
       "      <td>2.397895</td>\n",
       "      <td>1</td>\n",
       "      <td>Adorable top with a hint of lace and a key hol...</td>\n",
       "      <td>q1</td>\n",
       "      <td>Women</td>\n",
       "      <td>Tops &amp; Blouses</td>\n",
       "      <td>Blouse</td>\n",
       "      <td>False</td>\n",
       "    </tr>\n",
       "    <tr>\n",
       "      <th>3</th>\n",
       "      <td>3</td>\n",
       "      <td>Leather Horse Statues</td>\n",
       "      <td>1</td>\n",
       "      <td>Home/Home Décor/Home Décor Accents</td>\n",
       "      <td>NaN</td>\n",
       "      <td>3.583519</td>\n",
       "      <td>1</td>\n",
       "      <td>New with tags. Leather horses. Retail for [rm]...</td>\n",
       "      <td>q4</td>\n",
       "      <td>Home</td>\n",
       "      <td>Home Décor</td>\n",
       "      <td>Home Décor Accents</td>\n",
       "      <td>True</td>\n",
       "    </tr>\n",
       "    <tr>\n",
       "      <th>4</th>\n",
       "      <td>4</td>\n",
       "      <td>24K GOLD plated rose</td>\n",
       "      <td>1</td>\n",
       "      <td>Women/Jewelry/Necklaces</td>\n",
       "      <td>NaN</td>\n",
       "      <td>3.806662</td>\n",
       "      <td>0</td>\n",
       "      <td>Complete with certificate of authenticity</td>\n",
       "      <td>q4</td>\n",
       "      <td>Women</td>\n",
       "      <td>Jewelry</td>\n",
       "      <td>Necklaces</td>\n",
       "      <td>True</td>\n",
       "    </tr>\n",
       "    <tr>\n",
       "      <th>5</th>\n",
       "      <td>5</td>\n",
       "      <td>Bundled items requested for Ruie</td>\n",
       "      <td>3</td>\n",
       "      <td>Women/Other/Other</td>\n",
       "      <td>NaN</td>\n",
       "      <td>4.094345</td>\n",
       "      <td>0</td>\n",
       "      <td>Banana republic bottoms, Candies skirt with ma...</td>\n",
       "      <td>q4</td>\n",
       "      <td>Women</td>\n",
       "      <td>Other</td>\n",
       "      <td>Other</td>\n",
       "      <td>True</td>\n",
       "    </tr>\n",
       "    <tr>\n",
       "      <th>6</th>\n",
       "      <td>6</td>\n",
       "      <td>Acacia pacific tides santorini top</td>\n",
       "      <td>3</td>\n",
       "      <td>Women/Swimwear/Two-Piece</td>\n",
       "      <td>Acacia Swimwear</td>\n",
       "      <td>4.174387</td>\n",
       "      <td>0</td>\n",
       "      <td>Size small but straps slightly shortened to fi...</td>\n",
       "      <td>q4</td>\n",
       "      <td>Women</td>\n",
       "      <td>Swimwear</td>\n",
       "      <td>Two-Piece</td>\n",
       "      <td>False</td>\n",
       "    </tr>\n",
       "    <tr>\n",
       "      <th>7</th>\n",
       "      <td>7</td>\n",
       "      <td>Girls cheer and tumbling bundle of 7</td>\n",
       "      <td>3</td>\n",
       "      <td>Sports &amp; Outdoors/Apparel/Girls</td>\n",
       "      <td>Soffe</td>\n",
       "      <td>1.945910</td>\n",
       "      <td>1</td>\n",
       "      <td>You get three pairs of Sophie cheer shorts siz...</td>\n",
       "      <td>q1</td>\n",
       "      <td>Sports &amp; Outdoors</td>\n",
       "      <td>Apparel</td>\n",
       "      <td>Girls</td>\n",
       "      <td>False</td>\n",
       "    </tr>\n",
       "    <tr>\n",
       "      <th>8</th>\n",
       "      <td>8</td>\n",
       "      <td>Girls Nike Pro shorts</td>\n",
       "      <td>3</td>\n",
       "      <td>Sports &amp; Outdoors/Apparel/Girls</td>\n",
       "      <td>Nike</td>\n",
       "      <td>2.995732</td>\n",
       "      <td>0</td>\n",
       "      <td>Girls Size small Plus green. Three shorts total.</td>\n",
       "      <td>q3</td>\n",
       "      <td>Sports &amp; Outdoors</td>\n",
       "      <td>Apparel</td>\n",
       "      <td>Girls</td>\n",
       "      <td>False</td>\n",
       "    </tr>\n",
       "    <tr>\n",
       "      <th>9</th>\n",
       "      <td>9</td>\n",
       "      <td>Porcelain clown doll checker pants VTG</td>\n",
       "      <td>3</td>\n",
       "      <td>Vintage &amp; Collectibles/Collectibles/Doll</td>\n",
       "      <td>NaN</td>\n",
       "      <td>2.197225</td>\n",
       "      <td>0</td>\n",
       "      <td>I realized his pants are on backwards after th...</td>\n",
       "      <td>q1</td>\n",
       "      <td>Vintage &amp; Collectibles</td>\n",
       "      <td>Collectibles</td>\n",
       "      <td>Doll</td>\n",
       "      <td>True</td>\n",
       "    </tr>\n",
       "  </tbody>\n",
       "</table>\n",
       "</div>"
      ],
      "text/plain": [
       "   train_id                                    name  item_condition_id  \\\n",
       "0         0     MLB Cincinnati Reds T Shirt Size XL                  3   \n",
       "1         1        Razer BlackWidow Chroma Keyboard                  3   \n",
       "2         2                          AVA-VIV Blouse                  1   \n",
       "3         3                   Leather Horse Statues                  1   \n",
       "4         4                    24K GOLD plated rose                  1   \n",
       "5         5        Bundled items requested for Ruie                  3   \n",
       "6         6      Acacia pacific tides santorini top                  3   \n",
       "7         7    Girls cheer and tumbling bundle of 7                  3   \n",
       "8         8                   Girls Nike Pro shorts                  3   \n",
       "9         9  Porcelain clown doll checker pants VTG                  3   \n",
       "\n",
       "                                       category_name       brand_name  \\\n",
       "0                                  Men/Tops/T-shirts              NaN   \n",
       "1  Electronics/Computers & Tablets/Components & P...            Razer   \n",
       "2                        Women/Tops & Blouses/Blouse           Target   \n",
       "3                 Home/Home Décor/Home Décor Accents              NaN   \n",
       "4                            Women/Jewelry/Necklaces              NaN   \n",
       "5                                  Women/Other/Other              NaN   \n",
       "6                           Women/Swimwear/Two-Piece  Acacia Swimwear   \n",
       "7                    Sports & Outdoors/Apparel/Girls            Soffe   \n",
       "8                    Sports & Outdoors/Apparel/Girls             Nike   \n",
       "9           Vintage & Collectibles/Collectibles/Doll              NaN   \n",
       "\n",
       "      price  shipping                                   item_description  \\\n",
       "0  2.397895         1                                 No description yet   \n",
       "1  3.970292         0  This keyboard is in great condition and works ...   \n",
       "2  2.397895         1  Adorable top with a hint of lace and a key hol...   \n",
       "3  3.583519         1  New with tags. Leather horses. Retail for [rm]...   \n",
       "4  3.806662         0          Complete with certificate of authenticity   \n",
       "5  4.094345         0  Banana republic bottoms, Candies skirt with ma...   \n",
       "6  4.174387         0  Size small but straps slightly shortened to fi...   \n",
       "7  1.945910         1  You get three pairs of Sophie cheer shorts siz...   \n",
       "8  2.995732         0   Girls Size small Plus green. Three shorts total.   \n",
       "9  2.197225         0  I realized his pants are on backwards after th...   \n",
       "\n",
       "  price_bin           category_main        category_sub1       category_sub2  \\\n",
       "0        q1                     Men                 Tops            T-shirts   \n",
       "1        q4             Electronics  Computers & Tablets  Components & Parts   \n",
       "2        q1                   Women       Tops & Blouses              Blouse   \n",
       "3        q4                    Home           Home Décor  Home Décor Accents   \n",
       "4        q4                   Women              Jewelry           Necklaces   \n",
       "5        q4                   Women                Other               Other   \n",
       "6        q4                   Women             Swimwear           Two-Piece   \n",
       "7        q1       Sports & Outdoors              Apparel               Girls   \n",
       "8        q3       Sports & Outdoors              Apparel               Girls   \n",
       "9        q1  Vintage & Collectibles         Collectibles                Doll   \n",
       "\n",
       "   no_brand  \n",
       "0      True  \n",
       "1     False  \n",
       "2     False  \n",
       "3      True  \n",
       "4      True  \n",
       "5      True  \n",
       "6     False  \n",
       "7     False  \n",
       "8     False  \n",
       "9      True  "
      ]
     },
     "execution_count": 55,
     "metadata": {},
     "output_type": "execute_result"
    }
   ],
   "source": [
    "train.head(10)"
   ]
  },
  {
   "cell_type": "code",
   "execution_count": 56,
   "id": "incident-commission",
   "metadata": {
    "execution": {
     "iopub.execute_input": "2021-05-22T10:43:53.150666Z",
     "iopub.status.busy": "2021-05-22T10:43:53.149959Z",
     "iopub.status.idle": "2021-05-22T10:45:47.152761Z",
     "shell.execute_reply": "2021-05-22T10:45:47.152218Z",
     "shell.execute_reply.started": "2021-05-22T08:13:47.247148Z"
    },
    "papermill": {
     "duration": 114.13519,
     "end_time": "2021-05-22T10:45:47.152941",
     "exception": false,
     "start_time": "2021-05-22T10:43:53.017751",
     "status": "completed"
    },
    "tags": []
   },
   "outputs": [
    {
     "name": "stderr",
     "output_type": "stream",
     "text": [
      "/opt/conda/lib/python3.7/site-packages/ipykernel_launcher.py:5: SettingWithCopyWarning: \n",
      "A value is trying to be set on a copy of a slice from a DataFrame.\n",
      "Try using .loc[row_indexer,col_indexer] = value instead\n",
      "\n",
      "See the caveats in the documentation: https://pandas.pydata.org/pandas-docs/stable/user_guide/indexing.html#returning-a-view-versus-a-copy\n",
      "  \"\"\"\n",
      "/opt/conda/lib/python3.7/site-packages/ipykernel_launcher.py:7: SettingWithCopyWarning: \n",
      "A value is trying to be set on a copy of a slice from a DataFrame.\n",
      "Try using .loc[row_indexer,col_indexer] = value instead\n",
      "\n",
      "See the caveats in the documentation: https://pandas.pydata.org/pandas-docs/stable/user_guide/indexing.html#returning-a-view-versus-a-copy\n",
      "  import sys\n",
      "/opt/conda/lib/python3.7/site-packages/ipykernel_launcher.py:8: SettingWithCopyWarning: \n",
      "A value is trying to be set on a copy of a slice from a DataFrame.\n",
      "Try using .loc[row_indexer,col_indexer] = value instead\n",
      "\n",
      "See the caveats in the documentation: https://pandas.pydata.org/pandas-docs/stable/user_guide/indexing.html#returning-a-view-versus-a-copy\n",
      "  \n"
     ]
    },
    {
     "data": {
      "text/html": [
       "<div>\n",
       "<style scoped>\n",
       "    .dataframe tbody tr th:only-of-type {\n",
       "        vertical-align: middle;\n",
       "    }\n",
       "\n",
       "    .dataframe tbody tr th {\n",
       "        vertical-align: top;\n",
       "    }\n",
       "\n",
       "    .dataframe thead th {\n",
       "        text-align: right;\n",
       "    }\n",
       "</style>\n",
       "<table border=\"1\" class=\"dataframe\">\n",
       "  <thead>\n",
       "    <tr style=\"text-align: right;\">\n",
       "      <th></th>\n",
       "      <th>item_description</th>\n",
       "      <th>price</th>\n",
       "      <th>count</th>\n",
       "    </tr>\n",
       "  </thead>\n",
       "  <tbody>\n",
       "    <tr>\n",
       "      <th>0</th>\n",
       "      <td>No description yet</td>\n",
       "      <td>10.0</td>\n",
       "      <td>18</td>\n",
       "    </tr>\n",
       "    <tr>\n",
       "      <th>1</th>\n",
       "      <td>This keyboard is in great condition and works ...</td>\n",
       "      <td>52.0</td>\n",
       "      <td>188</td>\n",
       "    </tr>\n",
       "    <tr>\n",
       "      <th>2</th>\n",
       "      <td>Adorable top with a hint of lace and a key hol...</td>\n",
       "      <td>10.0</td>\n",
       "      <td>124</td>\n",
       "    </tr>\n",
       "  </tbody>\n",
       "</table>\n",
       "</div>"
      ],
      "text/plain": [
       "                                    item_description  price  count\n",
       "0                                 No description yet   10.0     18\n",
       "1  This keyboard is in great condition and works ...   52.0    188\n",
       "2  Adorable top with a hint of lace and a key hol...   10.0    124"
      ]
     },
     "execution_count": 56,
     "metadata": {},
     "output_type": "execute_result"
    }
   ],
   "source": [
    "# Remove Punctuation\n",
    "combined.item_description = combined.item_description.astype(str)\n",
    "\n",
    "descr = combined[['item_description', 'price']]\n",
    "descr['count'] = descr['item_description'].apply(lambda x : len(str(x)))\n",
    "\n",
    "descr['item_description'] = descr['item_description'].apply(remove_digits)\n",
    "descr['item_description'] = descr['item_description'].apply(remove_punctuation)\n",
    "# descr['item_description'] = descr['item_description'].apply(remove_stop_words)\n",
    "descr.head(3)"
   ]
  },
  {
   "cell_type": "markdown",
   "id": "prerequisite-dragon",
   "metadata": {
    "papermill": {
     "duration": 0.130225,
     "end_time": "2021-05-22T10:45:47.412108",
     "exception": false,
     "start_time": "2021-05-22T10:45:47.281883",
     "status": "completed"
    },
    "tags": []
   },
   "source": [
    "*Loại bỏ dấu câu và các chữ số trong item_description*\n"
   ]
  },
  {
   "cell_type": "code",
   "execution_count": 57,
   "id": "moving-characteristic",
   "metadata": {
    "execution": {
     "iopub.execute_input": "2021-05-22T10:45:47.678589Z",
     "iopub.status.busy": "2021-05-22T10:45:47.677916Z",
     "iopub.status.idle": "2021-05-22T10:50:45.686703Z",
     "shell.execute_reply": "2021-05-22T10:50:45.687232Z",
     "shell.execute_reply.started": "2021-05-22T08:15:42.070814Z"
    },
    "papermill": {
     "duration": 298.144094,
     "end_time": "2021-05-22T10:50:45.687414",
     "exception": false,
     "start_time": "2021-05-22T10:45:47.543320",
     "status": "completed"
    },
    "tags": []
   },
   "outputs": [
    {
     "name": "stderr",
     "output_type": "stream",
     "text": [
      "/opt/conda/lib/python3.7/site-packages/ipykernel_launcher.py:5: SettingWithCopyWarning: \n",
      "A value is trying to be set on a copy of a slice from a DataFrame.\n",
      "Try using .loc[row_indexer,col_indexer] = value instead\n",
      "\n",
      "See the caveats in the documentation: https://pandas.pydata.org/pandas-docs/stable/user_guide/indexing.html#returning-a-view-versus-a-copy\n",
      "  \"\"\"\n"
     ]
    }
   ],
   "source": [
    "from nltk.stem.porter import PorterStemmer\n",
    "\n",
    "porter = PorterStemmer()\n",
    "\n",
    "descr['item_description'] = descr['item_description'].apply(porter.stem)"
   ]
  },
  {
   "cell_type": "markdown",
   "id": "extended-indicator",
   "metadata": {
    "papermill": {
     "duration": 0.129197,
     "end_time": "2021-05-22T10:50:45.945815",
     "exception": false,
     "start_time": "2021-05-22T10:50:45.816618",
     "status": "completed"
    },
    "tags": []
   },
   "source": [
    "*Làm sạch item_description*"
   ]
  },
  {
   "cell_type": "code",
   "execution_count": 58,
   "id": "crazy-lawsuit",
   "metadata": {
    "execution": {
     "iopub.execute_input": "2021-05-22T10:50:46.214496Z",
     "iopub.status.busy": "2021-05-22T10:50:46.213519Z",
     "iopub.status.idle": "2021-05-22T10:50:46.217727Z",
     "shell.execute_reply": "2021-05-22T10:50:46.217248Z",
     "shell.execute_reply.started": "2021-05-22T08:20:34.759158Z"
    },
    "papermill": {
     "duration": 0.142662,
     "end_time": "2021-05-22T10:50:46.217858",
     "exception": false,
     "start_time": "2021-05-22T10:50:46.075196",
     "status": "completed"
    },
    "tags": []
   },
   "outputs": [
    {
     "data": {
      "text/html": [
       "<div>\n",
       "<style scoped>\n",
       "    .dataframe tbody tr th:only-of-type {\n",
       "        vertical-align: middle;\n",
       "    }\n",
       "\n",
       "    .dataframe tbody tr th {\n",
       "        vertical-align: top;\n",
       "    }\n",
       "\n",
       "    .dataframe thead th {\n",
       "        text-align: right;\n",
       "    }\n",
       "</style>\n",
       "<table border=\"1\" class=\"dataframe\">\n",
       "  <thead>\n",
       "    <tr style=\"text-align: right;\">\n",
       "      <th></th>\n",
       "      <th>item_description</th>\n",
       "      <th>price</th>\n",
       "      <th>count</th>\n",
       "    </tr>\n",
       "  </thead>\n",
       "  <tbody>\n",
       "    <tr>\n",
       "      <th>3460715</th>\n",
       "      <td>this is a preloves navy blue and white stripes...</td>\n",
       "      <td>NaN</td>\n",
       "      <td>165</td>\n",
       "    </tr>\n",
       "    <tr>\n",
       "      <th>3460716</th>\n",
       "      <td>new with tags size s  asking what i paid plus ...</td>\n",
       "      <td>NaN</td>\n",
       "      <td>96</td>\n",
       "    </tr>\n",
       "    <tr>\n",
       "      <th>3460717</th>\n",
       "      <td>brand new factory box free ship</td>\n",
       "      <td>NaN</td>\n",
       "      <td>35</td>\n",
       "    </tr>\n",
       "    <tr>\n",
       "      <th>3460718</th>\n",
       "      <td>no description yet</td>\n",
       "      <td>NaN</td>\n",
       "      <td>18</td>\n",
       "    </tr>\n",
       "    <tr>\n",
       "      <th>3460719</th>\n",
       "      <td>bright white denim jacket from old navy needs ...</td>\n",
       "      <td>NaN</td>\n",
       "      <td>951</td>\n",
       "    </tr>\n",
       "    <tr>\n",
       "      <th>3460720</th>\n",
       "      <td>it cosmetics bye bye foundation full coverage ...</td>\n",
       "      <td>NaN</td>\n",
       "      <td>726</td>\n",
       "    </tr>\n",
       "    <tr>\n",
       "      <th>3460721</th>\n",
       "      <td>♡ pairs of omighty trackiez one m and one s bo...</td>\n",
       "      <td>NaN</td>\n",
       "      <td>73</td>\n",
       "    </tr>\n",
       "    <tr>\n",
       "      <th>3460722</th>\n",
       "      <td>size  toddler pink high top converse shoes sti...</td>\n",
       "      <td>NaN</td>\n",
       "      <td>150</td>\n",
       "    </tr>\n",
       "    <tr>\n",
       "      <th>3460723</th>\n",
       "      <td>super super comfy i have a pair but ordered th...</td>\n",
       "      <td>NaN</td>\n",
       "      <td>72</td>\n",
       "    </tr>\n",
       "    <tr>\n",
       "      <th>3460724</th>\n",
       "      <td>genuine leather and faux fur insulated coat b...</td>\n",
       "      <td>NaN</td>\n",
       "      <td>287</td>\n",
       "    </tr>\n",
       "  </tbody>\n",
       "</table>\n",
       "</div>"
      ],
      "text/plain": [
       "                                          item_description  price  count\n",
       "3460715  this is a preloves navy blue and white stripes...    NaN    165\n",
       "3460716  new with tags size s  asking what i paid plus ...    NaN     96\n",
       "3460717                    brand new factory box free ship    NaN     35\n",
       "3460718                                 no description yet    NaN     18\n",
       "3460719  bright white denim jacket from old navy needs ...    NaN    951\n",
       "3460720  it cosmetics bye bye foundation full coverage ...    NaN    726\n",
       "3460721  ♡ pairs of omighty trackiez one m and one s bo...    NaN     73\n",
       "3460722  size  toddler pink high top converse shoes sti...    NaN    150\n",
       "3460723  super super comfy i have a pair but ordered th...    NaN     72\n",
       "3460724   genuine leather and faux fur insulated coat b...    NaN    287"
      ]
     },
     "execution_count": 58,
     "metadata": {},
     "output_type": "execute_result"
    }
   ],
   "source": [
    "descr.tail(10)"
   ]
  },
  {
   "cell_type": "code",
   "execution_count": 59,
   "id": "indonesian-toronto",
   "metadata": {
    "execution": {
     "iopub.execute_input": "2021-05-22T10:50:46.482909Z",
     "iopub.status.busy": "2021-05-22T10:50:46.482269Z",
     "iopub.status.idle": "2021-05-22T10:50:46.883671Z",
     "shell.execute_reply": "2021-05-22T10:50:46.884172Z",
     "shell.execute_reply.started": "2021-05-22T08:20:34.775836Z"
    },
    "papermill": {
     "duration": 0.536698,
     "end_time": "2021-05-22T10:50:46.884340",
     "exception": false,
     "start_time": "2021-05-22T10:50:46.347642",
     "status": "completed"
    },
    "tags": []
   },
   "outputs": [
    {
     "data": {
      "image/png": "[encoded data removed]",
      "text/plain": [
       "<Figure size 720x432 with 1 Axes>"
      ]
     },
     "metadata": {},
     "output_type": "display_data"
    }
   ],
   "source": [
    "df = descr.groupby('count')['price'].mean().reset_index()\n",
    "sns.regplot(x=df[\"count\"], y=(df[\"price\"]))\n",
    "plt.xlabel(\"word count\")\n",
    "plt.show()"
   ]
  },
  {
   "cell_type": "markdown",
   "id": "legal-rings",
   "metadata": {
    "papermill": {
     "duration": 0.130293,
     "end_time": "2021-05-22T10:50:47.146520",
     "exception": false,
     "start_time": "2021-05-22T10:50:47.016227",
     "status": "completed"
    },
    "tags": []
   },
   "source": [
    "**Có một mối quan hệ tuyến tính tích cực giữa số lượng từ và giá từ khoảng 0-300 từ. Sau đó, có một mối quan hệ tiêu cực dần dần, giảm xuống ở khoảng điểm 1000 từ.\n",
    "**"
   ]
  },
  {
   "cell_type": "code",
   "execution_count": 60,
   "id": "cellular-harvard",
   "metadata": {
    "execution": {
     "iopub.execute_input": "2021-05-22T10:50:47.413752Z",
     "iopub.status.busy": "2021-05-22T10:50:47.413073Z",
     "iopub.status.idle": "2021-05-22T10:50:47.416244Z",
     "shell.execute_reply": "2021-05-22T10:50:47.415746Z",
     "shell.execute_reply.started": "2021-05-22T08:20:35.262034Z"
    },
    "papermill": {
     "duration": 0.139236,
     "end_time": "2021-05-22T10:50:47.416381",
     "exception": false,
     "start_time": "2021-05-22T10:50:47.277145",
     "status": "completed"
    },
    "tags": []
   },
   "outputs": [],
   "source": [
    "def category_split(category_name):\n",
    "    try:\n",
    "        return category_name.split('/')\n",
    "    except:\n",
    "        return ['Missing', 'Missing', 'Missing']"
   ]
  },
  {
   "cell_type": "code",
   "execution_count": 61,
   "id": "emotional-flesh",
   "metadata": {
    "execution": {
     "iopub.execute_input": "2021-05-22T10:50:47.685893Z",
     "iopub.status.busy": "2021-05-22T10:50:47.685287Z",
     "iopub.status.idle": "2021-05-22T10:51:10.641956Z",
     "shell.execute_reply": "2021-05-22T10:51:10.641273Z",
     "shell.execute_reply.started": "2021-05-22T08:20:35.268148Z"
    },
    "papermill": {
     "duration": 23.094272,
     "end_time": "2021-05-22T10:51:10.642099",
     "exception": false,
     "start_time": "2021-05-22T10:50:47.547827",
     "status": "completed"
    },
    "tags": []
   },
   "outputs": [],
   "source": [
    "train['main_cat'], train['sub_cat'], train['item_cat'] = zip(*train['category_name'].apply(lambda x: category_split(x)))\n",
    "test['main_cat'], test['sub_cat'], test['item_cat'] = zip(*test['category_name'].apply(lambda x: category_split(x)))"
   ]
  },
  {
   "cell_type": "code",
   "execution_count": 62,
   "id": "statistical-renaissance",
   "metadata": {
    "execution": {
     "iopub.execute_input": "2021-05-22T10:51:11.038319Z",
     "iopub.status.busy": "2021-05-22T10:51:11.037619Z",
     "iopub.status.idle": "2021-05-22T10:51:11.452443Z",
     "shell.execute_reply": "2021-05-22T10:51:11.451874Z",
     "shell.execute_reply.started": "2021-05-22T08:20:58.193171Z"
    },
    "papermill": {
     "duration": 0.678922,
     "end_time": "2021-05-22T10:51:11.452623",
     "exception": false,
     "start_time": "2021-05-22T10:51:10.773701",
     "status": "completed"
    },
    "tags": []
   },
   "outputs": [],
   "source": [
    "train['category_name'] = train['category_name'].fillna(value='Missing')\n",
    "train['brand_name'] = train['brand_name'].fillna(value='Missing')\n",
    "train['item_description'] = train['item_description'].fillna(value='Missing')"
   ]
  },
  {
   "cell_type": "code",
   "execution_count": 63,
   "id": "bizarre-export",
   "metadata": {
    "execution": {
     "iopub.execute_input": "2021-05-22T10:51:12.052965Z",
     "iopub.status.busy": "2021-05-22T10:51:12.051345Z",
     "iopub.status.idle": "2021-05-22T10:51:13.090263Z",
     "shell.execute_reply": "2021-05-22T10:51:13.090721Z",
     "shell.execute_reply.started": "2021-05-22T08:20:58.741028Z"
    },
    "papermill": {
     "duration": 1.490526,
     "end_time": "2021-05-22T10:51:13.090902",
     "exception": false,
     "start_time": "2021-05-22T10:51:11.600376",
     "status": "completed"
    },
    "tags": []
   },
   "outputs": [],
   "source": [
    "test['category_name'] = test['category_name'].fillna(value='Missing')\n",
    "test['brand_name'] = test['brand_name'].fillna(value='Missing')\n",
    "test['item_description'] = test['item_description'].fillna(value='Missing')"
   ]
  },
  {
   "cell_type": "markdown",
   "id": "sporting-wiring",
   "metadata": {
    "papermill": {
     "duration": 0.131118,
     "end_time": "2021-05-22T10:51:13.352941",
     "exception": false,
     "start_time": "2021-05-22T10:51:13.221823",
     "status": "completed"
    },
    "tags": []
   },
   "source": [
    "*Các giá trị Null trong Tệp Test và Train thay bằng giá trị MIssing*"
   ]
  },
  {
   "cell_type": "code",
   "execution_count": 64,
   "id": "rapid-earthquake",
   "metadata": {
    "execution": {
     "iopub.execute_input": "2021-05-22T10:51:13.620110Z",
     "iopub.status.busy": "2021-05-22T10:51:13.619162Z",
     "iopub.status.idle": "2021-05-22T10:51:59.586140Z",
     "shell.execute_reply": "2021-05-22T10:51:59.585505Z",
     "shell.execute_reply.started": "2021-05-22T08:21:00.127922Z"
    },
    "papermill": {
     "duration": 46.102219,
     "end_time": "2021-05-22T10:51:59.586276",
     "exception": false,
     "start_time": "2021-05-22T10:51:13.484057",
     "status": "completed"
    },
    "tags": []
   },
   "outputs": [],
   "source": [
    "cnt_vec = CountVectorizer()\n",
    "\n",
    "X_train_name = cnt_vec.fit_transform(train['name'])\n",
    "X_test_name = cnt_vec.transform(test['name'])"
   ]
  },
  {
   "cell_type": "code",
   "execution_count": 65,
   "id": "qualified-italy",
   "metadata": {
    "execution": {
     "iopub.execute_input": "2021-05-22T10:51:59.853650Z",
     "iopub.status.busy": "2021-05-22T10:51:59.852978Z",
     "iopub.status.idle": "2021-05-22T10:51:59.855457Z",
     "shell.execute_reply": "2021-05-22T10:51:59.855951Z",
     "shell.execute_reply.started": "2021-05-22T08:21:46.305469Z"
    },
    "papermill": {
     "duration": 0.138694,
     "end_time": "2021-05-22T10:51:59.856120",
     "exception": false,
     "start_time": "2021-05-22T10:51:59.717426",
     "status": "completed"
    },
    "tags": []
   },
   "outputs": [
    {
     "name": "stdout",
     "output_type": "stream",
     "text": [
      "(1482535, 105757)\n",
      "(3460725, 105757)\n"
     ]
    }
   ],
   "source": [
    "print(X_train_name.shape)\n",
    "print(X_test_name.shape)"
   ]
  },
  {
   "cell_type": "code",
   "execution_count": 66,
   "id": "general-phoenix",
   "metadata": {
    "execution": {
     "iopub.execute_input": "2021-05-22T10:52:00.127689Z",
     "iopub.status.busy": "2021-05-22T10:52:00.126998Z",
     "iopub.status.idle": "2021-05-22T11:00:05.735056Z",
     "shell.execute_reply": "2021-05-22T11:00:05.735548Z",
     "shell.execute_reply.started": "2021-05-22T08:21:46.313037Z"
    },
    "papermill": {
     "duration": 485.747529,
     "end_time": "2021-05-22T11:00:05.735742",
     "exception": false,
     "start_time": "2021-05-22T10:51:59.988213",
     "status": "completed"
    },
    "tags": []
   },
   "outputs": [],
   "source": [
    "tfidf_descp = TfidfVectorizer(max_features=50000, ngram_range=(1, 3), stop_words='english')\n",
    "\n",
    "X_train_descp = tfidf_descp.fit_transform(train['item_description'])\n",
    "X_test_descp = tfidf_descp.transform(test['item_description'])"
   ]
  },
  {
   "cell_type": "code",
   "execution_count": 67,
   "id": "banned-junction",
   "metadata": {
    "execution": {
     "iopub.execute_input": "2021-05-22T11:00:06.008624Z",
     "iopub.status.busy": "2021-05-22T11:00:06.007664Z",
     "iopub.status.idle": "2021-05-22T11:00:06.010762Z",
     "shell.execute_reply": "2021-05-22T11:00:06.010287Z",
     "shell.execute_reply.started": "2021-05-22T08:29:55.272642Z"
    },
    "papermill": {
     "duration": 0.139078,
     "end_time": "2021-05-22T11:00:06.010895",
     "exception": false,
     "start_time": "2021-05-22T11:00:05.871817",
     "status": "completed"
    },
    "tags": []
   },
   "outputs": [],
   "source": [
    "from sklearn.preprocessing import LabelBinarizer"
   ]
  },
  {
   "cell_type": "code",
   "execution_count": 68,
   "id": "upset-forwarding",
   "metadata": {
    "execution": {
     "iopub.execute_input": "2021-05-22T11:00:06.282773Z",
     "iopub.status.busy": "2021-05-22T11:00:06.282024Z",
     "iopub.status.idle": "2021-05-22T11:12:56.927359Z",
     "shell.execute_reply": "2021-05-22T11:12:56.926741Z",
     "shell.execute_reply.started": "2021-05-22T08:29:55.278676Z"
    },
    "papermill": {
     "duration": 770.782198,
     "end_time": "2021-05-22T11:12:56.927500",
     "exception": false,
     "start_time": "2021-05-22T11:00:06.145302",
     "status": "completed"
    },
    "tags": []
   },
   "outputs": [],
   "source": [
    "lb_brand_name = LabelBinarizer(sparse_output=True)\n",
    "X_train_brand = lb_brand_name.fit_transform(train['brand_name'])\n",
    "X_test_brand = lb_brand_name.transform(test['brand_name'])\n",
    "\n",
    "lb_item_cond_id = LabelBinarizer(sparse_output=True)\n",
    "X_train_item_condition_id = lb_item_cond_id.fit_transform(train['item_condition_id'])\n",
    "X_test_item_condition_id = lb_item_cond_id.transform(test['item_condition_id'])\n",
    "\n",
    "lb_shipping = LabelBinarizer(sparse_output=True)\n",
    "X_train_shipping = lb_shipping.fit_transform(train['shipping'])\n",
    "X_test_shipping = lb_shipping.transform(test['shipping'])"
   ]
  },
  {
   "cell_type": "markdown",
   "id": "moved-grammar",
   "metadata": {
    "papermill": {
     "duration": 0.132368,
     "end_time": "2021-05-22T11:12:57.194641",
     "exception": false,
     "start_time": "2021-05-22T11:12:57.062273",
     "status": "completed"
    },
    "tags": []
   },
   "source": [
    "**Biến đổi Brand_name, Item_condition_id,shipping**"
   ]
  },
  {
   "cell_type": "code",
   "execution_count": 69,
   "id": "weighted-blink",
   "metadata": {
    "execution": {
     "iopub.execute_input": "2021-05-22T11:12:57.462924Z",
     "iopub.status.busy": "2021-05-22T11:12:57.461918Z",
     "iopub.status.idle": "2021-05-22T11:18:54.109542Z",
     "shell.execute_reply": "2021-05-22T11:18:54.110172Z",
     "shell.execute_reply.started": "2021-05-22T08:43:01.654579Z"
    },
    "papermill": {
     "duration": 356.785602,
     "end_time": "2021-05-22T11:18:54.110355",
     "exception": false,
     "start_time": "2021-05-22T11:12:57.324753",
     "status": "completed"
    },
    "tags": []
   },
   "outputs": [],
   "source": [
    "lb_main_cat = LabelBinarizer(sparse_output=True)\n",
    "X_train_main_cat = lb_main_cat.fit_transform(train['main_cat'])\n",
    "X_test_main_cat = lb_main_cat.transform(test['main_cat'])\n",
    "\n",
    "lb_sub_cat = LabelBinarizer(sparse_output=True)\n",
    "X_train_sub_cat = lb_sub_cat.fit_transform(train['sub_cat'])\n",
    "X_test_sub_cat = lb_sub_cat.transform(test['sub_cat'])\n",
    "\n",
    "lb_item_cat = LabelBinarizer(sparse_output=True)\n",
    "X_train_item_cat = lb_item_cat.fit_transform(train['item_cat'])\n",
    "X_test_item_cat = lb_item_cat.transform(test['item_cat'])"
   ]
  },
  {
   "cell_type": "markdown",
   "id": "choice-thomas",
   "metadata": {
    "papermill": {
     "duration": 0.170558,
     "end_time": "2021-05-22T11:18:54.411671",
     "exception": false,
     "start_time": "2021-05-22T11:18:54.241113",
     "status": "completed"
    },
    "tags": []
   },
   "source": [
    "**Biến đổi main_cat,sub_cat và item_cat**"
   ]
  },
  {
   "cell_type": "code",
   "execution_count": 70,
   "id": "usual-sight",
   "metadata": {
    "execution": {
     "iopub.execute_input": "2021-05-22T11:18:54.674529Z",
     "iopub.status.busy": "2021-05-22T11:18:54.673887Z",
     "iopub.status.idle": "2021-05-22T11:18:54.679761Z",
     "shell.execute_reply": "2021-05-22T11:18:54.679271Z",
     "shell.execute_reply.started": "2021-05-22T08:49:24.463345Z"
    },
    "papermill": {
     "duration": 0.137845,
     "end_time": "2021-05-22T11:18:54.679891",
     "exception": false,
     "start_time": "2021-05-22T11:18:54.542046",
     "status": "completed"
    },
    "tags": []
   },
   "outputs": [
    {
     "name": "stdout",
     "output_type": "stream",
     "text": [
      "<class 'scipy.sparse.csr.csr_matrix'> <class 'scipy.sparse.csr.csr_matrix'> <class 'scipy.sparse.csr.csr_matrix'>\n",
      "<class 'scipy.sparse.csr.csr_matrix'> <class 'scipy.sparse.csr.csr_matrix'> <class 'scipy.sparse.csr.csr_matrix'>\n"
     ]
    }
   ],
   "source": [
    "# Full dataframe printing\n",
    "print(type(X_train_brand), type(X_train_item_condition_id), type(X_train_shipping))\n",
    "print(type(X_test_brand), type(X_test_item_condition_id), type(X_test_shipping))"
   ]
  },
  {
   "cell_type": "code",
   "execution_count": 71,
   "id": "compliant-tomorrow",
   "metadata": {
    "execution": {
     "iopub.execute_input": "2021-05-22T11:18:54.943740Z",
     "iopub.status.busy": "2021-05-22T11:18:54.942758Z",
     "iopub.status.idle": "2021-05-22T11:18:54.950850Z",
     "shell.execute_reply": "2021-05-22T11:18:54.950217Z",
     "shell.execute_reply.started": "2021-05-22T08:49:24.474056Z"
    },
    "papermill": {
     "duration": 0.141696,
     "end_time": "2021-05-22T11:18:54.950974",
     "exception": false,
     "start_time": "2021-05-22T11:18:54.809278",
     "status": "completed"
    },
    "tags": []
   },
   "outputs": [
    {
     "name": "stdout",
     "output_type": "stream",
     "text": [
      "X_train_brand shape: (1482535, 4810)\n",
      "X_train_item_cond_id shape: (1482535, 5)\n",
      "X_train_shipping shape: (1482535, 1)\n",
      "X_train_main_cat shape: (1482535, 11)\n",
      "X_train_sub_cat shape: (1482535, 114)\n",
      "X_train_item_cat shape: (1482535, 871)\n"
     ]
    }
   ],
   "source": [
    "# Train dataframe printing\n",
    "print('X_train_brand shape:', X_train_brand.shape)\n",
    "print('X_train_item_cond_id shape:', X_train_item_condition_id.shape)\n",
    "print('X_train_shipping shape:', X_train_shipping.shape)\n",
    "print('X_train_main_cat shape:', X_train_main_cat.shape)\n",
    "print('X_train_sub_cat shape:', X_train_sub_cat.shape)\n",
    "print('X_train_item_cat shape:', X_train_item_cat.shape)"
   ]
  },
  {
   "cell_type": "code",
   "execution_count": 72,
   "id": "surrounded-equality",
   "metadata": {
    "execution": {
     "iopub.execute_input": "2021-05-22T11:18:55.219776Z",
     "iopub.status.busy": "2021-05-22T11:18:55.219148Z",
     "iopub.status.idle": "2021-05-22T11:18:55.222249Z",
     "shell.execute_reply": "2021-05-22T11:18:55.222718Z",
     "shell.execute_reply.started": "2021-05-22T08:49:24.490046Z"
    },
    "papermill": {
     "duration": 0.139676,
     "end_time": "2021-05-22T11:18:55.222876",
     "exception": false,
     "start_time": "2021-05-22T11:18:55.083200",
     "status": "completed"
    },
    "tags": []
   },
   "outputs": [
    {
     "name": "stdout",
     "output_type": "stream",
     "text": [
      "X_test_brand shape: (3460725, 4810)\n",
      "X_test_item_cond_id shape: (3460725, 5)\n",
      "X_test_shipping shape: (3460725, 1)\n",
      "X_test_main_cat shape: (3460725, 11)\n",
      "X_test_sub_cat shape: (3460725, 114)\n",
      "X_test_item_cat shape: (3460725, 871)\n"
     ]
    }
   ],
   "source": [
    "# Test dataframe printing\n",
    "print('X_test_brand shape:', X_test_brand.shape)\n",
    "print('X_test_item_cond_id shape:', X_test_item_condition_id.shape)\n",
    "print('X_test_shipping shape:', X_test_shipping.shape)\n",
    "print('X_test_main_cat shape:', X_test_main_cat.shape)\n",
    "print('X_test_sub_cat shape:', X_test_sub_cat.shape)\n",
    "print('X_test_item_cat shape:', X_test_item_cat.shape)"
   ]
  },
  {
   "cell_type": "code",
   "execution_count": 73,
   "id": "balanced-muscle",
   "metadata": {
    "execution": {
     "iopub.execute_input": "2021-05-22T11:18:55.487363Z",
     "iopub.status.busy": "2021-05-22T11:18:55.486813Z",
     "iopub.status.idle": "2021-05-22T11:18:55.489901Z",
     "shell.execute_reply": "2021-05-22T11:18:55.490342Z",
     "shell.execute_reply.started": "2021-05-22T08:49:24.502345Z"
    },
    "papermill": {
     "duration": 0.136063,
     "end_time": "2021-05-22T11:18:55.490505",
     "exception": false,
     "start_time": "2021-05-22T11:18:55.354442",
     "status": "completed"
    },
    "tags": []
   },
   "outputs": [],
   "source": [
    "from scipy.sparse import hstack\n",
    "import gc"
   ]
  },
  {
   "cell_type": "code",
   "execution_count": 74,
   "id": "raised-vacation",
   "metadata": {
    "execution": {
     "iopub.execute_input": "2021-05-22T11:18:55.756824Z",
     "iopub.status.busy": "2021-05-22T11:18:55.756202Z",
     "iopub.status.idle": "2021-05-22T11:18:55.759726Z",
     "shell.execute_reply": "2021-05-22T11:18:55.760205Z",
     "shell.execute_reply.started": "2021-05-22T08:49:24.519061Z"
    },
    "papermill": {
     "duration": 0.138221,
     "end_time": "2021-05-22T11:18:55.760359",
     "exception": false,
     "start_time": "2021-05-22T11:18:55.622138",
     "status": "completed"
    },
    "tags": []
   },
   "outputs": [],
   "source": [
    "sparse_matrix_list = (X_train_name, X_train_descp, X_train_brand, \n",
    "                      X_train_item_condition_id, X_train_shipping, \n",
    "                      X_train_main_cat, X_train_sub_cat, X_train_item_cat)"
   ]
  },
  {
   "cell_type": "code",
   "execution_count": 75,
   "id": "necessary-steps",
   "metadata": {
    "execution": {
     "iopub.execute_input": "2021-05-22T11:18:56.028351Z",
     "iopub.status.busy": "2021-05-22T11:18:56.027720Z",
     "iopub.status.idle": "2021-05-22T11:18:59.973609Z",
     "shell.execute_reply": "2021-05-22T11:18:59.973045Z",
     "shell.execute_reply.started": "2021-05-22T08:49:24.532429Z"
    },
    "papermill": {
     "duration": 4.081357,
     "end_time": "2021-05-22T11:18:59.973753",
     "exception": false,
     "start_time": "2021-05-22T11:18:55.892396",
     "status": "completed"
    },
    "tags": []
   },
   "outputs": [
    {
     "name": "stdout",
     "output_type": "stream",
     "text": [
      "<class 'scipy.sparse.csr.csr_matrix'> (1482535, 161569)\n"
     ]
    }
   ],
   "source": [
    "X_train = hstack(sparse_matrix_list).tocsr()\n",
    "print(type(X_train), X_train.shape)"
   ]
  },
  {
   "cell_type": "code",
   "execution_count": 76,
   "id": "spectacular-publication",
   "metadata": {
    "execution": {
     "iopub.execute_input": "2021-05-22T11:19:01.784332Z",
     "iopub.status.busy": "2021-05-22T11:19:01.783462Z",
     "iopub.status.idle": "2021-05-22T11:19:01.786762Z",
     "shell.execute_reply": "2021-05-22T11:19:01.787208Z",
     "shell.execute_reply.started": "2021-05-22T08:49:28.074907Z"
    },
    "papermill": {
     "duration": 1.680112,
     "end_time": "2021-05-22T11:19:01.787373",
     "exception": false,
     "start_time": "2021-05-22T11:19:00.107261",
     "status": "completed"
    },
    "tags": []
   },
   "outputs": [
    {
     "data": {
      "text/plain": [
       "200"
      ]
     },
     "execution_count": 76,
     "metadata": {},
     "output_type": "execute_result"
    }
   ],
   "source": [
    "del X_train\n",
    "gc.collect()"
   ]
  },
  {
   "cell_type": "code",
   "execution_count": 77,
   "id": "gentle-stereo",
   "metadata": {
    "execution": {
     "iopub.execute_input": "2021-05-22T11:19:02.057637Z",
     "iopub.status.busy": "2021-05-22T11:19:02.056994Z",
     "iopub.status.idle": "2021-05-22T11:19:02.059999Z",
     "shell.execute_reply": "2021-05-22T11:19:02.059477Z",
     "shell.execute_reply.started": "2021-05-22T08:49:30.415141Z"
    },
    "papermill": {
     "duration": 0.140554,
     "end_time": "2021-05-22T11:19:02.060150",
     "exception": false,
     "start_time": "2021-05-22T11:19:01.919596",
     "status": "completed"
    },
    "tags": []
   },
   "outputs": [],
   "source": [
    "def rmsle(y, y_pred):\n",
    "    return np.sqrt(np.mean(np.power(np.log1p(y) - np.log1p(y_pred), 2)))\n",
    "\n",
    "def evaluate_orig_price(y_test, preds):\n",
    "    preds_exmpm = np.expm1(preds)\n",
    "    y_test_exmpm = np.expm1(y_test)\n",
    "    \n",
    "    return rmsle(y_test_exmpm, preds_exmpm)"
   ]
  },
  {
   "cell_type": "code",
   "execution_count": 78,
   "id": "polyphonic-flesh",
   "metadata": {
    "execution": {
     "iopub.execute_input": "2021-05-22T11:19:02.331650Z",
     "iopub.status.busy": "2021-05-22T11:19:02.330977Z",
     "iopub.status.idle": "2021-05-22T11:19:02.334311Z",
     "shell.execute_reply": "2021-05-22T11:19:02.333773Z",
     "shell.execute_reply.started": "2021-05-22T08:49:30.42555Z"
    },
    "papermill": {
     "duration": 0.140991,
     "end_time": "2021-05-22T11:19:02.334464",
     "exception": false,
     "start_time": "2021-05-22T11:19:02.193473",
     "status": "completed"
    },
    "tags": []
   },
   "outputs": [],
   "source": [
    "def model_train_predict(model, matrix_list):\n",
    "    X = hstack(matrix_list).tocsr()\n",
    "    X_train, X_test, y_train, y_test = train_test_split(X, train['price'], test_size=0.2)\n",
    "\n",
    "    model.fit(X_train, y_train)\n",
    "    preds = model.predict(X_test)\n",
    "    \n",
    "    del X, X_train, X_test, y_train\n",
    "    gc.collect()\n",
    "    \n",
    "    return preds, y_test"
   ]
  },
  {
   "cell_type": "code",
   "execution_count": 79,
   "id": "starting-ensemble",
   "metadata": {
    "execution": {
     "iopub.execute_input": "2021-05-22T11:19:02.608827Z",
     "iopub.status.busy": "2021-05-22T11:19:02.608143Z",
     "iopub.status.idle": "2021-05-22T11:19:52.080465Z",
     "shell.execute_reply": "2021-05-22T11:19:52.080948Z",
     "shell.execute_reply.started": "2021-05-22T08:49:30.437767Z"
    },
    "papermill": {
     "duration": 49.613078,
     "end_time": "2021-05-22T11:19:52.081160",
     "exception": false,
     "start_time": "2021-05-22T11:19:02.468082",
     "status": "completed"
    },
    "tags": []
   },
   "outputs": [
    {
     "name": "stdout",
     "output_type": "stream",
     "text": [
      "Item Description rmsle: 0.5033006242526792\n",
      "Item Description rmsle: 0.4713811523192656\n"
     ]
    }
   ],
   "source": [
    "linear_model = Ridge(solver='lsqr', fit_intercept=False)\n",
    "\n",
    "sparse_matrix_list = (X_train_name, X_train_brand, \n",
    "                      X_train_item_condition_id, X_train_shipping, \n",
    "                      X_train_main_cat, X_train_sub_cat, X_train_item_cat)\n",
    "\n",
    "linear_preds, y_test = model_train_predict(model=linear_model, \n",
    "                                           matrix_list=sparse_matrix_list)\n",
    "\n",
    "print('Item Description rmsle:', evaluate_orig_price(y_test, linear_preds))\n",
    "\n",
    "sparse_matrix_list = (X_train_name, X_train_descp, X_train_brand, \n",
    "                      X_train_item_condition_id, X_train_shipping, \n",
    "                      X_train_main_cat, X_train_sub_cat, X_train_item_cat)\n",
    "\n",
    "\n",
    "linear_preds, y_test = model_train_predict(model=linear_model, \n",
    "                                           matrix_list=sparse_matrix_list)\n",
    "print('Item Description rmsle:', evaluate_orig_price(y_test, linear_preds))"
   ]
  },
  {
   "cell_type": "code",
   "execution_count": 80,
   "id": "answering-miracle",
   "metadata": {
    "execution": {
     "iopub.execute_input": "2021-05-22T11:19:52.351541Z",
     "iopub.status.busy": "2021-05-22T11:19:52.350603Z",
     "iopub.status.idle": "2021-05-22T11:19:55.498464Z",
     "shell.execute_reply": "2021-05-22T11:19:55.498959Z",
     "shell.execute_reply.started": "2021-05-22T08:50:24.544575Z"
    },
    "papermill": {
     "duration": 3.284287,
     "end_time": "2021-05-22T11:19:55.499122",
     "exception": false,
     "start_time": "2021-05-22T11:19:52.214835",
     "status": "completed"
    },
    "tags": []
   },
   "outputs": [
    {
     "data": {
      "text/plain": [
       "<1482535x161569 sparse matrix of type '<class 'numpy.float64'>'\n",
       "\twith 47372136 stored elements in Compressed Sparse Row format>"
      ]
     },
     "execution_count": 80,
     "metadata": {},
     "output_type": "execute_result"
    }
   ],
   "source": [
    "sparse_matrix_list = (X_train_name, X_train_descp, X_train_brand, \n",
    "                      X_train_item_condition_id, X_train_shipping, \n",
    "                      X_train_main_cat, X_train_sub_cat, X_train_item_cat)\n",
    "\n",
    "X_train = hstack(sparse_matrix_list).tocsr()\n",
    "X_train"
   ]
  },
  {
   "cell_type": "code",
   "execution_count": 81,
   "id": "dangerous-ladder",
   "metadata": {
    "execution": {
     "iopub.execute_input": "2021-05-22T11:19:55.769525Z",
     "iopub.status.busy": "2021-05-22T11:19:55.768899Z",
     "iopub.status.idle": "2021-05-22T11:20:03.014526Z",
     "shell.execute_reply": "2021-05-22T11:20:03.013953Z",
     "shell.execute_reply.started": "2021-05-22T08:50:27.74941Z"
    },
    "papermill": {
     "duration": 7.382617,
     "end_time": "2021-05-22T11:20:03.014670",
     "exception": false,
     "start_time": "2021-05-22T11:19:55.632053",
     "status": "completed"
    },
    "tags": []
   },
   "outputs": [],
   "source": [
    "sparse_matrix_list = (X_test_name, X_test_descp, X_test_brand, \n",
    "                      X_test_item_condition_id, X_test_shipping, \n",
    "                      X_test_main_cat, X_test_sub_cat, X_test_item_cat)\n",
    "X_test = hstack(sparse_matrix_list).tocsr()"
   ]
  },
  {
   "cell_type": "code",
   "execution_count": 82,
   "id": "fourth-nickel",
   "metadata": {
    "execution": {
     "iopub.execute_input": "2021-05-22T11:20:03.298156Z",
     "iopub.status.busy": "2021-05-22T11:20:03.297296Z",
     "iopub.status.idle": "2021-05-22T11:20:03.302220Z",
     "shell.execute_reply": "2021-05-22T11:20:03.301755Z",
     "shell.execute_reply.started": "2021-05-22T08:50:36.412657Z"
    },
    "papermill": {
     "duration": 0.148803,
     "end_time": "2021-05-22T11:20:03.302370",
     "exception": false,
     "start_time": "2021-05-22T11:20:03.153567",
     "status": "completed"
    },
    "tags": []
   },
   "outputs": [
    {
     "data": {
      "text/plain": [
       "0          2.397895\n",
       "1          3.970292\n",
       "2          2.397895\n",
       "3          3.583519\n",
       "4          3.806662\n",
       "             ...   \n",
       "1482530    3.044522\n",
       "1482531    2.708050\n",
       "1482532    2.564949\n",
       "1482533    3.828641\n",
       "1482534    3.135494\n",
       "Name: price, Length: 1482535, dtype: float64"
      ]
     },
     "execution_count": 82,
     "metadata": {},
     "output_type": "execute_result"
    }
   ],
   "source": [
    "y_train = train['price']\n",
    "y_train"
   ]
  },
  {
   "cell_type": "code",
   "execution_count": 83,
   "id": "fresh-replication",
   "metadata": {
    "execution": {
     "iopub.execute_input": "2021-05-22T11:20:03.584383Z",
     "iopub.status.busy": "2021-05-22T11:20:03.583250Z",
     "iopub.status.idle": "2021-05-22T11:20:38.106467Z",
     "shell.execute_reply": "2021-05-22T11:20:38.106956Z",
     "shell.execute_reply.started": "2021-05-22T08:50:36.422803Z"
    },
    "papermill": {
     "duration": 34.666777,
     "end_time": "2021-05-22T11:20:38.107143",
     "exception": false,
     "start_time": "2021-05-22T11:20:03.440366",
     "status": "completed"
    },
    "tags": []
   },
   "outputs": [
    {
     "data": {
      "text/plain": [
       "Ridge(fit_intercept=False, solver='lsqr')"
      ]
     },
     "execution_count": 83,
     "metadata": {},
     "output_type": "execute_result"
    }
   ],
   "source": [
    "linear_model.fit(X_train, y_train)"
   ]
  },
  {
   "cell_type": "code",
   "execution_count": 84,
   "id": "native-girlfriend",
   "metadata": {
    "execution": {
     "iopub.execute_input": "2021-05-22T11:20:38.382596Z",
     "iopub.status.busy": "2021-05-22T11:20:38.381530Z",
     "iopub.status.idle": "2021-05-22T11:20:38.721611Z",
     "shell.execute_reply": "2021-05-22T11:20:38.721134Z",
     "shell.execute_reply.started": "2021-05-22T08:51:13.88168Z"
    },
    "papermill": {
     "duration": 0.478612,
     "end_time": "2021-05-22T11:20:38.721744",
     "exception": false,
     "start_time": "2021-05-22T11:20:38.243132",
     "status": "completed"
    },
    "tags": []
   },
   "outputs": [
    {
     "data": {
      "text/plain": [
       "array([2.38793343, 2.59012101, 3.90617975, ..., 2.86666837, 2.84447887,\n",
       "       3.11745025])"
      ]
     },
     "execution_count": 84,
     "metadata": {},
     "output_type": "execute_result"
    }
   ],
   "source": [
    "preds = linear_model.predict(X_test)\n",
    "preds"
   ]
  },
  {
   "cell_type": "code",
   "execution_count": 85,
   "id": "olympic-prairie",
   "metadata": {
    "execution": {
     "iopub.execute_input": "2021-05-22T11:20:38.992383Z",
     "iopub.status.busy": "2021-05-22T11:20:38.991778Z",
     "iopub.status.idle": "2021-05-22T11:20:39.066220Z",
     "shell.execute_reply": "2021-05-22T11:20:39.066672Z",
     "shell.execute_reply.started": "2021-05-22T08:51:14.279132Z"
    },
    "papermill": {
     "duration": 0.212106,
     "end_time": "2021-05-22T11:20:39.066849",
     "exception": false,
     "start_time": "2021-05-22T11:20:38.854743",
     "status": "completed"
    },
    "tags": []
   },
   "outputs": [
    {
     "data": {
      "text/plain": [
       "array([ 9.89096376, 12.33138478, 48.70868925, ..., 16.57835588,\n",
       "       16.19259684, 21.58871064])"
      ]
     },
     "execution_count": 85,
     "metadata": {},
     "output_type": "execute_result"
    }
   ],
   "source": [
    "preds = np.expm1(preds)\n",
    "preds"
   ]
  },
  {
   "cell_type": "code",
   "execution_count": 86,
   "id": "inappropriate-summit",
   "metadata": {
    "execution": {
     "iopub.execute_input": "2021-05-22T11:20:39.340314Z",
     "iopub.status.busy": "2021-05-22T11:20:39.339730Z",
     "iopub.status.idle": "2021-05-22T11:20:40.040127Z",
     "shell.execute_reply": "2021-05-22T11:20:40.040580Z",
     "shell.execute_reply.started": "2021-05-22T08:51:14.363075Z"
    },
    "papermill": {
     "duration": 0.838486,
     "end_time": "2021-05-22T11:20:40.040743",
     "exception": false,
     "start_time": "2021-05-22T11:20:39.202257",
     "status": "completed"
    },
    "tags": []
   },
   "outputs": [
    {
     "data": {
      "text/html": [
       "<div>\n",
       "<style scoped>\n",
       "    .dataframe tbody tr th:only-of-type {\n",
       "        vertical-align: middle;\n",
       "    }\n",
       "\n",
       "    .dataframe tbody tr th {\n",
       "        vertical-align: top;\n",
       "    }\n",
       "\n",
       "    .dataframe thead th {\n",
       "        text-align: right;\n",
       "    }\n",
       "</style>\n",
       "<table border=\"1\" class=\"dataframe\">\n",
       "  <thead>\n",
       "    <tr style=\"text-align: right;\">\n",
       "      <th></th>\n",
       "      <th>test_id</th>\n",
       "      <th>price</th>\n",
       "    </tr>\n",
       "  </thead>\n",
       "  <tbody>\n",
       "    <tr>\n",
       "      <th>0</th>\n",
       "      <td>0</td>\n",
       "      <td>26.738</td>\n",
       "    </tr>\n",
       "    <tr>\n",
       "      <th>1</th>\n",
       "      <td>1</td>\n",
       "      <td>26.738</td>\n",
       "    </tr>\n",
       "    <tr>\n",
       "      <th>2</th>\n",
       "      <td>2</td>\n",
       "      <td>26.738</td>\n",
       "    </tr>\n",
       "    <tr>\n",
       "      <th>3</th>\n",
       "      <td>3</td>\n",
       "      <td>26.738</td>\n",
       "    </tr>\n",
       "    <tr>\n",
       "      <th>4</th>\n",
       "      <td>4</td>\n",
       "      <td>26.738</td>\n",
       "    </tr>\n",
       "    <tr>\n",
       "      <th>...</th>\n",
       "      <td>...</td>\n",
       "      <td>...</td>\n",
       "    </tr>\n",
       "    <tr>\n",
       "      <th>3460720</th>\n",
       "      <td>3460720</td>\n",
       "      <td>26.738</td>\n",
       "    </tr>\n",
       "    <tr>\n",
       "      <th>3460721</th>\n",
       "      <td>3460721</td>\n",
       "      <td>26.738</td>\n",
       "    </tr>\n",
       "    <tr>\n",
       "      <th>3460722</th>\n",
       "      <td>3460722</td>\n",
       "      <td>26.738</td>\n",
       "    </tr>\n",
       "    <tr>\n",
       "      <th>3460723</th>\n",
       "      <td>3460723</td>\n",
       "      <td>26.738</td>\n",
       "    </tr>\n",
       "    <tr>\n",
       "      <th>3460724</th>\n",
       "      <td>3460724</td>\n",
       "      <td>26.738</td>\n",
       "    </tr>\n",
       "  </tbody>\n",
       "</table>\n",
       "<p>3460725 rows × 2 columns</p>\n",
       "</div>"
      ],
      "text/plain": [
       "         test_id   price\n",
       "0              0  26.738\n",
       "1              1  26.738\n",
       "2              2  26.738\n",
       "3              3  26.738\n",
       "4              4  26.738\n",
       "...          ...     ...\n",
       "3460720  3460720  26.738\n",
       "3460721  3460721  26.738\n",
       "3460722  3460722  26.738\n",
       "3460723  3460723  26.738\n",
       "3460724  3460724  26.738\n",
       "\n",
       "[3460725 rows x 2 columns]"
      ]
     },
     "execution_count": 86,
     "metadata": {},
     "output_type": "execute_result"
    }
   ],
   "source": [
    "submission = pd.read_csv('sample_submission_stg2.csv')\n",
    "submission"
   ]
  },
  {
   "cell_type": "code",
   "execution_count": 87,
   "id": "killing-stevens",
   "metadata": {
    "execution": {
     "iopub.execute_input": "2021-05-22T11:20:40.316913Z",
     "iopub.status.busy": "2021-05-22T11:20:40.315995Z",
     "iopub.status.idle": "2021-05-22T11:20:40.408279Z",
     "shell.execute_reply": "2021-05-22T11:20:40.407760Z",
     "shell.execute_reply.started": "2021-05-22T08:51:15.255319Z"
    },
    "papermill": {
     "duration": 0.231183,
     "end_time": "2021-05-22T11:20:40.408413",
     "exception": false,
     "start_time": "2021-05-22T11:20:40.177230",
     "status": "completed"
    },
    "tags": []
   },
   "outputs": [
    {
     "data": {
      "text/html": [
       "<div>\n",
       "<style scoped>\n",
       "    .dataframe tbody tr th:only-of-type {\n",
       "        vertical-align: middle;\n",
       "    }\n",
       "\n",
       "    .dataframe tbody tr th {\n",
       "        vertical-align: top;\n",
       "    }\n",
       "\n",
       "    .dataframe thead th {\n",
       "        text-align: right;\n",
       "    }\n",
       "</style>\n",
       "<table border=\"1\" class=\"dataframe\">\n",
       "  <thead>\n",
       "    <tr style=\"text-align: right;\">\n",
       "      <th></th>\n",
       "      <th>test_id</th>\n",
       "      <th>price</th>\n",
       "    </tr>\n",
       "  </thead>\n",
       "  <tbody>\n",
       "    <tr>\n",
       "      <th>0</th>\n",
       "      <td>0</td>\n",
       "      <td>9.890964</td>\n",
       "    </tr>\n",
       "    <tr>\n",
       "      <th>1</th>\n",
       "      <td>1</td>\n",
       "      <td>12.331385</td>\n",
       "    </tr>\n",
       "    <tr>\n",
       "      <th>2</th>\n",
       "      <td>2</td>\n",
       "      <td>48.708689</td>\n",
       "    </tr>\n",
       "    <tr>\n",
       "      <th>3</th>\n",
       "      <td>3</td>\n",
       "      <td>16.991770</td>\n",
       "    </tr>\n",
       "    <tr>\n",
       "      <th>4</th>\n",
       "      <td>4</td>\n",
       "      <td>8.030248</td>\n",
       "    </tr>\n",
       "    <tr>\n",
       "      <th>...</th>\n",
       "      <td>...</td>\n",
       "      <td>...</td>\n",
       "    </tr>\n",
       "    <tr>\n",
       "      <th>3460720</th>\n",
       "      <td>3460720</td>\n",
       "      <td>7.351566</td>\n",
       "    </tr>\n",
       "    <tr>\n",
       "      <th>3460721</th>\n",
       "      <td>3460721</td>\n",
       "      <td>24.814442</td>\n",
       "    </tr>\n",
       "    <tr>\n",
       "      <th>3460722</th>\n",
       "      <td>3460722</td>\n",
       "      <td>16.578356</td>\n",
       "    </tr>\n",
       "    <tr>\n",
       "      <th>3460723</th>\n",
       "      <td>3460723</td>\n",
       "      <td>16.192597</td>\n",
       "    </tr>\n",
       "    <tr>\n",
       "      <th>3460724</th>\n",
       "      <td>3460724</td>\n",
       "      <td>21.588711</td>\n",
       "    </tr>\n",
       "  </tbody>\n",
       "</table>\n",
       "<p>3460725 rows × 2 columns</p>\n",
       "</div>"
      ],
      "text/plain": [
       "         test_id      price\n",
       "0              0   9.890964\n",
       "1              1  12.331385\n",
       "2              2  48.708689\n",
       "3              3  16.991770\n",
       "4              4   8.030248\n",
       "...          ...        ...\n",
       "3460720  3460720   7.351566\n",
       "3460721  3460721  24.814442\n",
       "3460722  3460722  16.578356\n",
       "3460723  3460723  16.192597\n",
       "3460724  3460724  21.588711\n",
       "\n",
       "[3460725 rows x 2 columns]"
      ]
     },
     "execution_count": 87,
     "metadata": {},
     "output_type": "execute_result"
    }
   ],
   "source": [
    "submission.loc[:, 'price'] = preds\n",
    "submission"
   ]
  },
  {
   "cell_type": "code",
   "execution_count": 88,
   "id": "referenced-gravity",
   "metadata": {
    "execution": {
     "iopub.execute_input": "2021-05-22T11:20:40.684464Z",
     "iopub.status.busy": "2021-05-22T11:20:40.683559Z",
     "iopub.status.idle": "2021-05-22T11:20:52.760501Z",
     "shell.execute_reply": "2021-05-22T11:20:52.761726Z",
     "shell.execute_reply.started": "2021-05-22T08:51:15.283231Z"
    },
    "papermill": {
     "duration": 12.21763,
     "end_time": "2021-05-22T11:20:52.761954",
     "exception": false,
     "start_time": "2021-05-22T11:20:40.544324",
     "status": "completed"
    },
    "tags": []
   },
   "outputs": [],
   "source": [
    "submission.to_csv('submission.csv', index=False)"
   ]
  }
 ],
 "metadata": {
  "kernelspec": {
   "display_name": "Python 3",
   "language": "python",
   "name": "python3"
  },
  "language_info": {
   "codemirror_mode": {
    "name": "ipython",
    "version": 3
   },
   "file_extension": ".py",
   "mimetype": "text/x-python",
   "name": "python",
   "nbconvert_exporter": "python",
   "pygments_lexer": "ipython3",
   "version": "3.7.10"
  },
  "papermill": {
   "default_parameters": {},
   "duration": 2320.396969,
   "end_time": "2021-05-22T11:20:55.807644",
   "environment_variables": {},
   "exception": null,
   "input_path": "__notebook__.ipynb",
   "output_path": "__notebook__.ipynb",
   "parameters": {},
   "start_time": "2021-05-22T10:42:15.410675",
   "version": "2.3.3"
  }
 },
 "nbformat": 4,
 "nbformat_minor": 5
}
